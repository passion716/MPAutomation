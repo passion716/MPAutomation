{
  "cells": [
    {
      "cell_type": "markdown",
      "metadata": {
        "id": "view-in-github",
        "colab_type": "text"
      },
      "source": [
        "<a href=\"https://colab.research.google.com/github/passion716/MPAutomation/blob/main/1110_RED4_ultrastic.ipynb\" target=\"_parent\"><img src=\"https://colab.research.google.com/assets/colab-badge.svg\" alt=\"Open In Colab\"/></a>"
      ]
    },
    {
      "cell_type": "markdown",
      "metadata": {
        "id": "tw_cv55HbAip"
      },
      "source": [
        "#roboflow 관련 설치"
      ]
    },
    {
      "cell_type": "code",
      "execution_count": 1,
      "metadata": {
        "id": "SNoqDlcGTfxF",
        "colab": {
          "base_uri": "https://localhost:8080/",
          "height": 1000
        },
        "outputId": "3540eb15-7b8b-4066-c44e-b66e9bfe671d"
      },
      "outputs": [
        {
          "output_type": "stream",
          "name": "stdout",
          "text": [
            "Collecting roboflow\n",
            "  Downloading roboflow-1.1.9-py3-none-any.whl (63 kB)\n",
            "\u001b[?25l     \u001b[90m━━━━━━━━━━━━━━━━━━━━━━━━━━━━━━━━━━━━━━━━\u001b[0m \u001b[32m0.0/63.3 kB\u001b[0m \u001b[31m?\u001b[0m eta \u001b[36m-:--:--\u001b[0m\r\u001b[2K     \u001b[90m━━━━━━━━━━━━━━━━━━━━━━━━━━━━━━━━━━━━━━━━\u001b[0m \u001b[32m63.3/63.3 kB\u001b[0m \u001b[31m2.2 MB/s\u001b[0m eta \u001b[36m0:00:00\u001b[0m\n",
            "\u001b[?25hRequirement already satisfied: certifi==2023.7.22 in /usr/local/lib/python3.10/dist-packages (from roboflow) (2023.7.22)\n",
            "Collecting chardet==4.0.0 (from roboflow)\n",
            "  Downloading chardet-4.0.0-py2.py3-none-any.whl (178 kB)\n",
            "\u001b[2K     \u001b[90m━━━━━━━━━━━━━━━━━━━━━━━━━━━━━━━━━━━━━━━━\u001b[0m \u001b[32m178.7/178.7 kB\u001b[0m \u001b[31m7.3 MB/s\u001b[0m eta \u001b[36m0:00:00\u001b[0m\n",
            "\u001b[?25hCollecting cycler==0.10.0 (from roboflow)\n",
            "  Downloading cycler-0.10.0-py2.py3-none-any.whl (6.5 kB)\n",
            "Collecting idna==2.10 (from roboflow)\n",
            "  Downloading idna-2.10-py2.py3-none-any.whl (58 kB)\n",
            "\u001b[2K     \u001b[90m━━━━━━━━━━━━━━━━━━━━━━━━━━━━━━━━━━━━━━━━\u001b[0m \u001b[32m58.8/58.8 kB\u001b[0m \u001b[31m6.9 MB/s\u001b[0m eta \u001b[36m0:00:00\u001b[0m\n",
            "\u001b[?25hRequirement already satisfied: kiwisolver>=1.3.1 in /usr/local/lib/python3.10/dist-packages (from roboflow) (1.4.5)\n",
            "Requirement already satisfied: matplotlib in /usr/local/lib/python3.10/dist-packages (from roboflow) (3.7.1)\n",
            "Requirement already satisfied: numpy>=1.18.5 in /usr/local/lib/python3.10/dist-packages (from roboflow) (1.23.5)\n",
            "Collecting opencv-python-headless==4.8.0.74 (from roboflow)\n",
            "  Downloading opencv_python_headless-4.8.0.74-cp37-abi3-manylinux_2_17_x86_64.manylinux2014_x86_64.whl (49.1 MB)\n",
            "\u001b[2K     \u001b[90m━━━━━━━━━━━━━━━━━━━━━━━━━━━━━━━━━━━━━━━━\u001b[0m \u001b[32m49.1/49.1 MB\u001b[0m \u001b[31m36.1 MB/s\u001b[0m eta \u001b[36m0:00:00\u001b[0m\n",
            "\u001b[?25hRequirement already satisfied: Pillow>=7.1.2 in /usr/local/lib/python3.10/dist-packages (from roboflow) (9.4.0)\n",
            "Collecting pyparsing==2.4.7 (from roboflow)\n",
            "  Downloading pyparsing-2.4.7-py2.py3-none-any.whl (67 kB)\n",
            "\u001b[2K     \u001b[90m━━━━━━━━━━━━━━━━━━━━━━━━━━━━━━━━━━━━━━━━\u001b[0m \u001b[32m67.8/67.8 kB\u001b[0m \u001b[31m8.9 MB/s\u001b[0m eta \u001b[36m0:00:00\u001b[0m\n",
            "\u001b[?25hRequirement already satisfied: python-dateutil in /usr/local/lib/python3.10/dist-packages (from roboflow) (2.8.2)\n",
            "Collecting python-dotenv (from roboflow)\n",
            "  Downloading python_dotenv-1.0.0-py3-none-any.whl (19 kB)\n",
            "Requirement already satisfied: requests in /usr/local/lib/python3.10/dist-packages (from roboflow) (2.31.0)\n",
            "Requirement already satisfied: six in /usr/local/lib/python3.10/dist-packages (from roboflow) (1.16.0)\n",
            "Collecting supervision (from roboflow)\n",
            "  Downloading supervision-0.16.0-py3-none-any.whl (72 kB)\n",
            "\u001b[2K     \u001b[90m━━━━━━━━━━━━━━━━━━━━━━━━━━━━━━━━━━━━━━━━\u001b[0m \u001b[32m72.2/72.2 kB\u001b[0m \u001b[31m9.4 MB/s\u001b[0m eta \u001b[36m0:00:00\u001b[0m\n",
            "\u001b[?25hRequirement already satisfied: urllib3>=1.26.6 in /usr/local/lib/python3.10/dist-packages (from roboflow) (2.0.7)\n",
            "Requirement already satisfied: tqdm>=4.41.0 in /usr/local/lib/python3.10/dist-packages (from roboflow) (4.66.1)\n",
            "Requirement already satisfied: PyYAML>=5.3.1 in /usr/local/lib/python3.10/dist-packages (from roboflow) (6.0.1)\n",
            "Collecting requests-toolbelt (from roboflow)\n",
            "  Downloading requests_toolbelt-1.0.0-py2.py3-none-any.whl (54 kB)\n",
            "\u001b[2K     \u001b[90m━━━━━━━━━━━━━━━━━━━━━━━━━━━━━━━━━━━━━━━━\u001b[0m \u001b[32m54.5/54.5 kB\u001b[0m \u001b[31m7.2 MB/s\u001b[0m eta \u001b[36m0:00:00\u001b[0m\n",
            "\u001b[?25hCollecting python-magic (from roboflow)\n",
            "  Downloading python_magic-0.4.27-py2.py3-none-any.whl (13 kB)\n",
            "Requirement already satisfied: contourpy>=1.0.1 in /usr/local/lib/python3.10/dist-packages (from matplotlib->roboflow) (1.2.0)\n",
            "Requirement already satisfied: fonttools>=4.22.0 in /usr/local/lib/python3.10/dist-packages (from matplotlib->roboflow) (4.44.0)\n",
            "Requirement already satisfied: packaging>=20.0 in /usr/local/lib/python3.10/dist-packages (from matplotlib->roboflow) (23.2)\n",
            "Requirement already satisfied: charset-normalizer<4,>=2 in /usr/local/lib/python3.10/dist-packages (from requests->roboflow) (3.3.2)\n",
            "Requirement already satisfied: scipy<2.0.0,>=1.9.0 in /usr/local/lib/python3.10/dist-packages (from supervision->roboflow) (1.11.3)\n",
            "Installing collected packages: python-magic, python-dotenv, pyparsing, opencv-python-headless, idna, cycler, chardet, supervision, requests-toolbelt, roboflow\n",
            "  Attempting uninstall: pyparsing\n",
            "    Found existing installation: pyparsing 3.1.1\n",
            "    Uninstalling pyparsing-3.1.1:\n",
            "      Successfully uninstalled pyparsing-3.1.1\n",
            "  Attempting uninstall: opencv-python-headless\n",
            "    Found existing installation: opencv-python-headless 4.8.1.78\n",
            "    Uninstalling opencv-python-headless-4.8.1.78:\n",
            "      Successfully uninstalled opencv-python-headless-4.8.1.78\n",
            "  Attempting uninstall: idna\n",
            "    Found existing installation: idna 3.4\n",
            "    Uninstalling idna-3.4:\n",
            "      Successfully uninstalled idna-3.4\n",
            "  Attempting uninstall: cycler\n",
            "    Found existing installation: cycler 0.12.1\n",
            "    Uninstalling cycler-0.12.1:\n",
            "      Successfully uninstalled cycler-0.12.1\n",
            "  Attempting uninstall: chardet\n",
            "    Found existing installation: chardet 5.2.0\n",
            "    Uninstalling chardet-5.2.0:\n",
            "      Successfully uninstalled chardet-5.2.0\n",
            "Successfully installed chardet-4.0.0 cycler-0.10.0 idna-2.10 opencv-python-headless-4.8.0.74 pyparsing-2.4.7 python-dotenv-1.0.0 python-magic-0.4.27 requests-toolbelt-1.0.0 roboflow-1.1.9 supervision-0.16.0\n"
          ]
        },
        {
          "output_type": "display_data",
          "data": {
            "application/vnd.colab-display-data+json": {
              "pip_warning": {
                "packages": [
                  "cycler",
                  "pyparsing"
                ]
              }
            }
          },
          "metadata": {}
        }
      ],
      "source": [
        "!pip install roboflow"
      ]
    },
    {
      "cell_type": "code",
      "execution_count": 2,
      "metadata": {
        "colab": {
          "base_uri": "https://localhost:8080/"
        },
        "id": "UccKnnQVkA3m",
        "outputId": "52f94221-7d52-4d36-da0d-5971031eec4c"
      },
      "outputs": [
        {
          "output_type": "stream",
          "name": "stdout",
          "text": [
            "PRETTY_NAME=\"Ubuntu 22.04.2 LTS\"\n",
            "NAME=\"Ubuntu\"\n",
            "VERSION_ID=\"22.04\"\n",
            "VERSION=\"22.04.2 LTS (Jammy Jellyfish)\"\n",
            "VERSION_CODENAME=jammy\n",
            "ID=ubuntu\n",
            "ID_LIKE=debian\n",
            "HOME_URL=\"https://www.ubuntu.com/\"\n",
            "SUPPORT_URL=\"https://help.ubuntu.com/\"\n",
            "BUG_REPORT_URL=\"https://bugs.launchpad.net/ubuntu/\"\n",
            "PRIVACY_POLICY_URL=\"https://www.ubuntu.com/legal/terms-and-policies/privacy-policy\"\n",
            "UBUNTU_CODENAME=jammy\n"
          ]
        }
      ],
      "source": [
        "#System 정보 조회\n",
        "!cat /etc/os-release"
      ]
    },
    {
      "cell_type": "code",
      "execution_count": 2,
      "metadata": {
        "colab": {
          "base_uri": "https://localhost:8080/"
        },
        "id": "FzgyGPNsenhK",
        "outputId": "24b11d44-6ca4-4d7f-82ba-07137d64df05"
      },
      "outputs": [
        {
          "output_type": "stream",
          "name": "stdout",
          "text": [
            "Mounted at gdrive\n"
          ]
        }
      ],
      "source": [
        "from google.colab import drive\n",
        "drive.mount('gdrive')"
      ]
    },
    {
      "cell_type": "code",
      "execution_count": 3,
      "metadata": {
        "colab": {
          "base_uri": "https://localhost:8080/"
        },
        "id": "vuKYQkH7TsVg",
        "outputId": "50eb6cf7-571d-4ed5-d404-ef7718bd0235"
      },
      "outputs": [
        {
          "output_type": "stream",
          "name": "stdout",
          "text": [
            "/content/gdrive/MyDrive/AI_Architect/yolov5\n"
          ]
        }
      ],
      "source": [
        "#Dataset\n",
        "%cd /content/gdrive/MyDrive/AI_Architect/yolov5/"
      ]
    },
    {
      "cell_type": "code",
      "execution_count": 5,
      "metadata": {
        "colab": {
          "base_uri": "https://localhost:8080/"
        },
        "id": "skm_zaGOUCQ8",
        "outputId": "3cc0bb3b-4374-4f17-8109-5012957a84ad"
      },
      "outputs": [
        {
          "output_type": "stream",
          "name": "stdout",
          "text": [
            "total 43287\n",
            "-rw------- 1 root root     8009 Aug 27 10:55 benchmarks.py\n",
            "-rw------- 1 root root 14816381 Aug 29 13:06 best.pt\n",
            "-rw------- 1 root root      393 Aug 27 10:55 CITATION.cff\n",
            "drwx------ 2 root root     4096 Aug 27 10:55 classify\n",
            "-rw------- 1 root root     5009 Aug 27 10:55 CONTRIBUTING.md\n",
            "drwx------ 2 root root     4096 Aug 27 10:55 data\n",
            "-rw------- 1 root root      178 Sep  8 06:32 data.yaml\n",
            "-rw------- 1 root root    14336 Aug 27 10:55 detect.py\n",
            "drwx------ 2 root root     4096 Oct 14 03:52 Digit4\n",
            "drwx------ 2 root root     4096 Sep  8 06:27 DigitalClock-2\n",
            "-rw------- 1 root root    41270 Aug 27 10:55 export.py\n",
            "-rw------- 1 root root     7769 Aug 27 10:55 hubconf.py\n",
            "-rw------- 1 root root    34523 Aug 27 10:55 LICENSE\n",
            "drwx------ 2 root root     4096 Aug 27 10:55 models\n",
            "-rw------- 1 root root      384 Oct 14 03:36 new_data.yaml\n",
            "drwx------ 2 root root     4096 Aug 27 11:02 __pycache__\n",
            "-rw------- 1 root root    41743 Aug 27 10:55 README.md\n",
            "-rw------- 1 root root    40752 Aug 27 10:55 README.zh-CN.md\n",
            "-rw------- 1 root root     1562 Aug 27 10:55 requirements.txt\n",
            "drwx------ 2 root root     4096 Aug 27 11:19 runs\n",
            "drwx------ 2 root root     4096 Aug 27 10:55 segment\n",
            "-rw------- 1 root root     1723 Aug 27 10:55 setup.cfg\n",
            "-rw------- 1 root root    33882 Aug 27 10:55 train.py\n",
            "-rw------- 1 root root    40951 Aug 27 10:55 tutorial.ipynb\n",
            "drwx------ 2 root root     4096 Aug 27 10:55 utils\n",
            "-rw------- 1 root root    20586 Aug 27 10:55 val.py\n",
            "-rw------- 1 root root 14808437 Aug 27 11:19 yolov5s.pt\n",
            "-rw------- 1 root root 14366141 Aug 17 13:09 Yolov5s.pt\n"
          ]
        }
      ],
      "source": [
        "!ls -l"
      ]
    },
    {
      "cell_type": "code",
      "execution_count": 3,
      "metadata": {
        "colab": {
          "base_uri": "https://localhost:8080/"
        },
        "id": "340gZYAFkUCr",
        "outputId": "2772d94c-ec82-4bb6-d143-96f937221267"
      },
      "outputs": [
        {
          "output_type": "stream",
          "name": "stdout",
          "text": [
            "data.yaml  README.dataset.txt  README.roboflow.txt  \u001b[0m\u001b[01;34mtest\u001b[0m/  \u001b[01;34mtrain\u001b[0m/  \u001b[01;34mvalid\u001b[0m/\n"
          ]
        }
      ],
      "source": [
        "%ls /content/gdrive/MyDrive/DataSet/RedVer2/RED4Digit-2/"
      ]
    },
    {
      "cell_type": "code",
      "execution_count": null,
      "metadata": {
        "id": "3AuG6i-zkbH4"
      },
      "outputs": [],
      "source": [
        "%cd /content/gdrive/MyDrive/"
      ]
    },
    {
      "cell_type": "code",
      "execution_count": 4,
      "metadata": {
        "colab": {
          "base_uri": "https://localhost:8080/"
        },
        "id": "pPZ6k0P6U1oq",
        "outputId": "30b56cac-a84e-4ef5-98e7-50918660be73"
      },
      "outputs": [
        {
          "output_type": "stream",
          "name": "stdout",
          "text": [
            "{'names': ['0', '1', '2', '3', '4', '5', '6', '7', '8', '9'], 'nc': 10, 'roboflow': {'license': 'CC BY 4.0', 'project': 'red4digit', 'url': 'https://universe.roboflow.com/korea-national-open-university-kdufy/red4digit/dataset/2', 'version': 2, 'workspace': 'korea-national-open-university-kdufy'}, 'test': '/content/gdrive/MyDrive/DataSet/RedVer2/RED4Digit-2/test/images/', 'train': '/content/gdrive/MyDrive/DataSet/RedVer2/RED4Digit-2/train/images/', 'val': '/content/gdrive/MyDrive/DataSet/RedVer2/RED4Digit-2/valid/images/'}\n",
            "{'names': ['0', '1', '2', '3', '4', '5', '6', '7', '8', '9'], 'nc': 10, 'roboflow': {'license': 'CC BY 4.0', 'project': 'red4digit', 'url': 'https://universe.roboflow.com/korea-national-open-university-kdufy/red4digit/dataset/2', 'version': 2, 'workspace': 'korea-national-open-university-kdufy'}, 'test': '/content/gdrive/MyDrive/DataSet/RedVer2/RED4Digit-2/test/images/', 'train': '/content/gdrive/MyDrive/DataSet/RedVer2/RED4Digit-2/train/images/', 'val': '/content/gdrive/MyDrive/DataSet/RedVer2/RED4Digit-2/valid/images/'}\n"
          ]
        }
      ],
      "source": [
        "#Data.yaml 에는 Data를 Image 까지 적어주어야 함.\n",
        "\n",
        "import yaml\n",
        "\n",
        "with open('/content/gdrive/MyDrive/DataSet/RedVer2/RED4Digit-2/data.yaml', 'r') as f:\n",
        "  data = yaml.safe_load(f)\n",
        "\n",
        "print(data)\n",
        "\n",
        "#Export 시 Image 경로 까지\n",
        "data['train'] = '/content/gdrive/MyDrive/DataSet/RedVer2/RED4Digit-2/train/images/'\n",
        "data['test'] = '/content/gdrive/MyDrive/DataSet/RedVer2/RED4Digit-2/test/images/'\n",
        "data['val'] = '/content/gdrive/MyDrive/DataSet/RedVer2/RED4Digit-2/valid/images/'\n",
        "\n",
        "with open('/content/gdrive/MyDrive/DataSet/RedVer2/RED4Digit-2/data.yaml', 'w') as f:\n",
        "  yaml.dump(data, f)\n",
        "\n",
        "print(data)"
      ]
    },
    {
      "cell_type": "code",
      "execution_count": 5,
      "metadata": {
        "colab": {
          "base_uri": "https://localhost:8080/"
        },
        "id": "8ujNlHneVAvt",
        "outputId": "3bc43e4a-8be3-4058-8901-7318ef8ea41a"
      },
      "outputs": [
        {
          "output_type": "stream",
          "name": "stdout",
          "text": [
            "names:\n",
            "- '0'\n",
            "- '1'\n",
            "- '2'\n",
            "- '3'\n",
            "- '4'\n",
            "- '5'\n",
            "- '6'\n",
            "- '7'\n",
            "- '8'\n",
            "- '9'\n",
            "nc: 10\n",
            "roboflow:\n",
            "  license: CC BY 4.0\n",
            "  project: red4digit\n",
            "  url: https://universe.roboflow.com/korea-national-open-university-kdufy/red4digit/dataset/1\n",
            "  version: 1\n",
            "  workspace: korea-national-open-university-kdufy\n",
            "test: /content/gdrive/MyDrive/AI_Architect/yolov5/Digit4/RED4Digit-1/test/images\n",
            "train: /content/gdrive/MyDrive/AI_Architect/yolov5/Digit4/RED4Digit-1/train/images\n",
            "val: /content/gdrive/MyDrive/AI_Architect/yolov5/Digit4/RED4Digit-1/valid/images\n"
          ]
        }
      ],
      "source": [
        "!cat /content/gdrive/MyDrive/AI_Architect/yolov5/Digit4/RED4Digit-1/data.yaml"
      ]
    },
    {
      "cell_type": "markdown",
      "metadata": {
        "id": "BtdYWchOb0KH"
      },
      "source": [
        "#Roboflow 다운로드"
      ]
    },
    {
      "cell_type": "code",
      "execution_count": null,
      "metadata": {
        "colab": {
          "base_uri": "https://localhost:8080/"
        },
        "id": "c28HvQMPThZZ",
        "outputId": "77804929-f31e-45e2-fc76-e7848880ab9a"
      },
      "outputs": [
        {
          "name": "stdout",
          "output_type": "stream",
          "text": [
            "loading Roboflow workspace...\n",
            "loading Roboflow project...\n"
          ]
        },
        {
          "name": "stderr",
          "output_type": "stream",
          "text": [
            "Downloading Dataset Version Zip in RED4Digit-1 to yolov5pytorch:: 100%|██████████| 86657/86657 [00:07<00:00, 11247.80it/s]"
          ]
        },
        {
          "name": "stdout",
          "output_type": "stream",
          "text": [
            "\n"
          ]
        },
        {
          "name": "stderr",
          "output_type": "stream",
          "text": [
            "\n",
            "Extracting Dataset Version Zip to RED4Digit-1 in yolov5pytorch:: 100%|██████████| 664/664 [00:04<00:00, 159.02it/s]\n"
          ]
        }
      ],
      "source": [
        "from roboflow import Roboflow\n",
        "rf = Roboflow(api_key=\"btaGdQRnQUWB0dmAsDdr\")\n",
        "project = rf.workspace(\"korea-national-open-university-kdufy\").project(\"red4digit\")\n",
        "dataset = project.version(1).download(\"yolov5\")\n"
      ]
    },
    {
      "cell_type": "code",
      "execution_count": null,
      "metadata": {
        "colab": {
          "base_uri": "https://localhost:8080/"
        },
        "id": "IaKAPkIChOWA",
        "outputId": "4aefadc5-b346-465e-b346-546100c02203"
      },
      "outputs": [
        {
          "name": "stdout",
          "output_type": "stream",
          "text": [
            "total 15\n",
            "-rw------- 1 root root  516 Oct 15 03:43 data.yaml\n",
            "-rw------- 1 root root  158 Oct 14 03:52 README.dataset.txt\n",
            "-rw------- 1 root root 1194 Oct 14 03:52 README.roboflow.txt\n",
            "drwx------ 2 root root 4096 Oct 14 03:52 \u001b[0m\u001b[01;34mtest\u001b[0m/\n",
            "drwx------ 2 root root 4096 Oct 14 03:52 \u001b[01;34mtrain\u001b[0m/\n",
            "drwx------ 2 root root 4096 Oct 14 03:53 \u001b[01;34mvalid\u001b[0m/\n"
          ]
        }
      ],
      "source": [
        "%ls -l"
      ]
    },
    {
      "cell_type": "markdown",
      "metadata": {
        "id": "XD1Ttd8ccGso"
      },
      "source": [
        "# Yolov5 Package 설치"
      ]
    },
    {
      "cell_type": "code",
      "execution_count": 6,
      "metadata": {
        "id": "Zx8AMGTePKdm",
        "colab": {
          "base_uri": "https://localhost:8080/"
        },
        "outputId": "324fcb15-37a6-4f65-df9c-05e83e38a237"
      },
      "outputs": [
        {
          "output_type": "stream",
          "name": "stdout",
          "text": [
            "Collecting gitpython>=3.1.30 (from -r requirements.txt (line 5))\n",
            "  Downloading GitPython-3.1.40-py3-none-any.whl (190 kB)\n",
            "\u001b[2K     \u001b[90m━━━━━━━━━━━━━━━━━━━━━━━━━━━━━━━━━━━━━━━━\u001b[0m \u001b[32m190.6/190.6 kB\u001b[0m \u001b[31m4.7 MB/s\u001b[0m eta \u001b[36m0:00:00\u001b[0m\n",
            "\u001b[?25hRequirement already satisfied: matplotlib>=3.3 in /usr/local/lib/python3.10/dist-packages (from -r requirements.txt (line 6)) (3.7.1)\n",
            "Requirement already satisfied: numpy>=1.22.2 in /usr/local/lib/python3.10/dist-packages (from -r requirements.txt (line 7)) (1.23.5)\n",
            "Requirement already satisfied: opencv-python>=4.1.1 in /usr/local/lib/python3.10/dist-packages (from -r requirements.txt (line 8)) (4.8.0.76)\n",
            "Requirement already satisfied: Pillow>=7.1.2 in /usr/local/lib/python3.10/dist-packages (from -r requirements.txt (line 9)) (9.4.0)\n",
            "Requirement already satisfied: psutil in /usr/local/lib/python3.10/dist-packages (from -r requirements.txt (line 10)) (5.9.5)\n",
            "Requirement already satisfied: PyYAML>=5.3.1 in /usr/local/lib/python3.10/dist-packages (from -r requirements.txt (line 11)) (6.0.1)\n",
            "Requirement already satisfied: requests>=2.23.0 in /usr/local/lib/python3.10/dist-packages (from -r requirements.txt (line 12)) (2.31.0)\n",
            "Requirement already satisfied: scipy>=1.4.1 in /usr/local/lib/python3.10/dist-packages (from -r requirements.txt (line 13)) (1.11.3)\n",
            "Collecting thop>=0.1.1 (from -r requirements.txt (line 14))\n",
            "  Downloading thop-0.1.1.post2209072238-py3-none-any.whl (15 kB)\n",
            "Requirement already satisfied: torch>=1.8.0 in /usr/local/lib/python3.10/dist-packages (from -r requirements.txt (line 15)) (2.1.0+cu118)\n",
            "Requirement already satisfied: torchvision>=0.9.0 in /usr/local/lib/python3.10/dist-packages (from -r requirements.txt (line 16)) (0.16.0+cu118)\n",
            "Requirement already satisfied: tqdm>=4.64.0 in /usr/local/lib/python3.10/dist-packages (from -r requirements.txt (line 17)) (4.66.1)\n",
            "Collecting ultralytics>=8.0.147 (from -r requirements.txt (line 18))\n",
            "  Downloading ultralytics-8.0.208-py3-none-any.whl (645 kB)\n",
            "\u001b[2K     \u001b[90m━━━━━━━━━━━━━━━━━━━━━━━━━━━━━━━━━━━━━━━━\u001b[0m \u001b[32m645.2/645.2 kB\u001b[0m \u001b[31m13.3 MB/s\u001b[0m eta \u001b[36m0:00:00\u001b[0m\n",
            "\u001b[?25hRequirement already satisfied: pandas>=1.1.4 in /usr/local/lib/python3.10/dist-packages (from -r requirements.txt (line 27)) (1.5.3)\n",
            "Requirement already satisfied: seaborn>=0.11.0 in /usr/local/lib/python3.10/dist-packages (from -r requirements.txt (line 28)) (0.12.2)\n",
            "Requirement already satisfied: setuptools>=65.5.1 in /usr/local/lib/python3.10/dist-packages (from -r requirements.txt (line 42)) (67.7.2)\n",
            "Collecting gitdb<5,>=4.0.1 (from gitpython>=3.1.30->-r requirements.txt (line 5))\n",
            "  Downloading gitdb-4.0.11-py3-none-any.whl (62 kB)\n",
            "\u001b[2K     \u001b[90m━━━━━━━━━━━━━━━━━━━━━━━━━━━━━━━━━━━━━━━━\u001b[0m \u001b[32m62.7/62.7 kB\u001b[0m \u001b[31m8.9 MB/s\u001b[0m eta \u001b[36m0:00:00\u001b[0m\n",
            "\u001b[?25hRequirement already satisfied: contourpy>=1.0.1 in /usr/local/lib/python3.10/dist-packages (from matplotlib>=3.3->-r requirements.txt (line 6)) (1.2.0)\n",
            "Requirement already satisfied: cycler>=0.10 in /usr/local/lib/python3.10/dist-packages (from matplotlib>=3.3->-r requirements.txt (line 6)) (0.10.0)\n",
            "Requirement already satisfied: fonttools>=4.22.0 in /usr/local/lib/python3.10/dist-packages (from matplotlib>=3.3->-r requirements.txt (line 6)) (4.44.0)\n",
            "Requirement already satisfied: kiwisolver>=1.0.1 in /usr/local/lib/python3.10/dist-packages (from matplotlib>=3.3->-r requirements.txt (line 6)) (1.4.5)\n",
            "Requirement already satisfied: packaging>=20.0 in /usr/local/lib/python3.10/dist-packages (from matplotlib>=3.3->-r requirements.txt (line 6)) (23.2)\n",
            "Requirement already satisfied: pyparsing>=2.3.1 in /usr/local/lib/python3.10/dist-packages (from matplotlib>=3.3->-r requirements.txt (line 6)) (2.4.7)\n",
            "Requirement already satisfied: python-dateutil>=2.7 in /usr/local/lib/python3.10/dist-packages (from matplotlib>=3.3->-r requirements.txt (line 6)) (2.8.2)\n",
            "Requirement already satisfied: charset-normalizer<4,>=2 in /usr/local/lib/python3.10/dist-packages (from requests>=2.23.0->-r requirements.txt (line 12)) (3.3.2)\n",
            "Requirement already satisfied: idna<4,>=2.5 in /usr/local/lib/python3.10/dist-packages (from requests>=2.23.0->-r requirements.txt (line 12)) (2.10)\n",
            "Requirement already satisfied: urllib3<3,>=1.21.1 in /usr/local/lib/python3.10/dist-packages (from requests>=2.23.0->-r requirements.txt (line 12)) (2.0.7)\n",
            "Requirement already satisfied: certifi>=2017.4.17 in /usr/local/lib/python3.10/dist-packages (from requests>=2.23.0->-r requirements.txt (line 12)) (2023.7.22)\n",
            "Requirement already satisfied: filelock in /usr/local/lib/python3.10/dist-packages (from torch>=1.8.0->-r requirements.txt (line 15)) (3.13.1)\n",
            "Requirement already satisfied: typing-extensions in /usr/local/lib/python3.10/dist-packages (from torch>=1.8.0->-r requirements.txt (line 15)) (4.5.0)\n",
            "Requirement already satisfied: sympy in /usr/local/lib/python3.10/dist-packages (from torch>=1.8.0->-r requirements.txt (line 15)) (1.12)\n",
            "Requirement already satisfied: networkx in /usr/local/lib/python3.10/dist-packages (from torch>=1.8.0->-r requirements.txt (line 15)) (3.2.1)\n",
            "Requirement already satisfied: jinja2 in /usr/local/lib/python3.10/dist-packages (from torch>=1.8.0->-r requirements.txt (line 15)) (3.1.2)\n",
            "Requirement already satisfied: fsspec in /usr/local/lib/python3.10/dist-packages (from torch>=1.8.0->-r requirements.txt (line 15)) (2023.6.0)\n",
            "Requirement already satisfied: triton==2.1.0 in /usr/local/lib/python3.10/dist-packages (from torch>=1.8.0->-r requirements.txt (line 15)) (2.1.0)\n",
            "Requirement already satisfied: py-cpuinfo in /usr/local/lib/python3.10/dist-packages (from ultralytics>=8.0.147->-r requirements.txt (line 18)) (9.0.0)\n",
            "Requirement already satisfied: pytz>=2020.1 in /usr/local/lib/python3.10/dist-packages (from pandas>=1.1.4->-r requirements.txt (line 27)) (2023.3.post1)\n",
            "Requirement already satisfied: six in /usr/local/lib/python3.10/dist-packages (from cycler>=0.10->matplotlib>=3.3->-r requirements.txt (line 6)) (1.16.0)\n",
            "Collecting smmap<6,>=3.0.1 (from gitdb<5,>=4.0.1->gitpython>=3.1.30->-r requirements.txt (line 5))\n",
            "  Downloading smmap-5.0.1-py3-none-any.whl (24 kB)\n",
            "Requirement already satisfied: MarkupSafe>=2.0 in /usr/local/lib/python3.10/dist-packages (from jinja2->torch>=1.8.0->-r requirements.txt (line 15)) (2.1.3)\n",
            "Requirement already satisfied: mpmath>=0.19 in /usr/local/lib/python3.10/dist-packages (from sympy->torch>=1.8.0->-r requirements.txt (line 15)) (1.3.0)\n",
            "Installing collected packages: smmap, gitdb, thop, gitpython, ultralytics\n",
            "Successfully installed gitdb-4.0.11 gitpython-3.1.40 smmap-5.0.1 thop-0.1.1.post2209072238 ultralytics-8.0.208\n"
          ]
        }
      ],
      "source": [
        "!pip install -r requirements.txt"
      ]
    },
    {
      "cell_type": "markdown",
      "metadata": {
        "id": "jgaNrF_DcRco"
      },
      "source": [
        "#yolov5 Dir 옮기기"
      ]
    },
    {
      "cell_type": "code",
      "execution_count": 7,
      "metadata": {
        "colab": {
          "base_uri": "https://localhost:8080/",
          "height": 35
        },
        "id": "nwhj_DqycbU4",
        "outputId": "fd5ca1d9-8251-4e9a-c55e-51e6816ba6ed"
      },
      "outputs": [
        {
          "output_type": "execute_result",
          "data": {
            "text/plain": [
              "'/content/gdrive/MyDrive/AI_Architect/yolov5'"
            ],
            "application/vnd.google.colaboratory.intrinsic+json": {
              "type": "string"
            }
          },
          "metadata": {},
          "execution_count": 7
        }
      ],
      "source": [
        "%pwd"
      ]
    },
    {
      "cell_type": "code",
      "execution_count": 9,
      "metadata": {
        "colab": {
          "base_uri": "https://localhost:8080/"
        },
        "id": "HsxSPB-pcfxg",
        "outputId": "8f4e0464-6392-4d2f-e6f4-1546f467eb4e"
      },
      "outputs": [
        {
          "output_type": "stream",
          "name": "stdout",
          "text": [
            "/content/gdrive/MyDrive/AI_Architect/yolov5\n"
          ]
        }
      ],
      "source": [
        "%cd /content/gdrive/MyDrive/AI_Architect/yolov5/"
      ]
    },
    {
      "cell_type": "code",
      "execution_count": 8,
      "metadata": {
        "colab": {
          "base_uri": "https://localhost:8080/"
        },
        "id": "RFoibI06lUIz",
        "outputId": "2333a08d-163f-4fb6-e0a9-6b6dafbf6871"
      },
      "outputs": [
        {
          "output_type": "stream",
          "name": "stdout",
          "text": [
            "benchmarks.py\t data\t\t export.py\t__pycache__\t  segment\t  val.py\n",
            "best.pt\t\t data.yaml\t hubconf.py\tREADME.md\t  setup.cfg\t  yolov5s.pt\n",
            "CITATION.cff\t detect.py\t LICENSE\tREADME.zh-CN.md   train.py\t  Yolov5s.pt\n",
            "classify\t Digit4\t\t models\t\trequirements.txt  tutorial.ipynb\n",
            "CONTRIBUTING.md  DigitalClock-2  new_data.yaml\truns\t\t  utils\n"
          ]
        }
      ],
      "source": [
        "!ls"
      ]
    },
    {
      "cell_type": "code",
      "execution_count": null,
      "metadata": {
        "colab": {
          "base_uri": "https://localhost:8080/"
        },
        "id": "kAB4XptecWTs",
        "outputId": "934c0705-9b89-44ca-e64a-05535dff2400"
      },
      "outputs": [
        {
          "name": "stdout",
          "output_type": "stream",
          "text": [
            "/content/gdrive/MyDrive/AI_Architect/yolov5/runs/train/RED4Digit1101_epho10/weights/best.pt\n"
          ]
        }
      ],
      "source": [
        "!ls /content/gdrive/MyDrive/AI_Architect/yolov5/runs/train/RED4Digit1101_epho10/weights/best.pt"
      ]
    },
    {
      "cell_type": "markdown",
      "metadata": {
        "id": "MA9iIGm6cveZ"
      },
      "source": [
        "#Export 활용하기"
      ]
    },
    {
      "cell_type": "code",
      "execution_count": null,
      "metadata": {
        "id": "5KekgFB4hgR1"
      },
      "outputs": [],
      "source": [
        "!cat export.py"
      ]
    },
    {
      "cell_type": "code",
      "execution_count": null,
      "metadata": {
        "id": "oNIs39r2ibYU"
      },
      "outputs": [],
      "source": [
        "# Export Coco Data\n",
        "!python export.py --weights ./runs/train/RED4Digit1013_epho100/weights/best.pt --include onnx tflite edgetpu"
      ]
    },
    {
      "cell_type": "code",
      "execution_count": 14,
      "metadata": {
        "colab": {
          "base_uri": "https://localhost:8080/"
        },
        "id": "PtZL6xPxi0Ai",
        "outputId": "f3a9b919-7c48-4305-c5f6-7526d5cfba4f"
      },
      "outputs": [
        {
          "output_type": "stream",
          "name": "stdout",
          "text": [
            "\u001b[34m\u001b[1mexport: \u001b[0mdata=/content/gdrive/MyDrive/DataSet/RedVer2/RED4Digit-2/data.yaml, weights=['/content/gdrive/MyDrive/AI_Architect/yolov5/runs/train/RED4Digit1101_epho10/weights/best.pt'], imgsz=[640, 640], batch_size=1, device=0, half=False, inplace=False, keras=False, optimize=False, int8=False, dynamic=False, simplify=False, opset=17, verbose=False, workspace=4, nms=False, agnostic_nms=False, topk_per_class=100, topk_all=100, iou_thres=0.45, conf_thres=0.25, include=['engine']\n",
            "YOLOv5 🚀 v7.0-211-g94e943e Python-3.10.12 torch-2.1.0+cu118 CUDA:0 (Tesla V100-SXM2-16GB, 16151MiB)\n",
            "\n",
            "Fusing layers... \n",
            "YOLOv5s summary: 157 layers, 7037095 parameters, 0 gradients, 15.8 GFLOPs\n",
            "\n",
            "\u001b[34m\u001b[1mPyTorch:\u001b[0m starting from /content/gdrive/MyDrive/AI_Architect/yolov5/runs/train/RED4Digit1101_epho10/weights/best.pt with output shape (1, 25200, 15) (14.1 MB)\n",
            "\u001b[31m\u001b[1mrequirements:\u001b[0m Ultralytics requirement ['nvidia-tensorrt'] not found, attempting AutoUpdate...\n",
            "Looking in indexes: https://pypi.ngc.nvidia.com\n",
            "Collecting nvidia-tensorrt\n",
            "  Downloading https://developer.download.nvidia.com/compute/redist/nvidia-tensorrt/nvidia_tensorrt-8.4.3.1-cp310-none-linux_x86_64.whl (340.9 MB)\n",
            "     ━━━━━━━━━━━━━━━━━━━━━━━━━━━━━━━━━━━━━━━━ 340.9/340.9 MB 337.2 MB/s eta 0:00:00\n",
            "Collecting nvidia-cuda-runtime-cu11 (from nvidia-tensorrt)\n",
            "  Downloading https://developer.download.nvidia.com/compute/redist/nvidia-cuda-runtime-cu11/nvidia-cuda-runtime-cu11-2022.4.25.tar.gz (16 kB)\n",
            "  Preparing metadata (setup.py): started\n",
            "  Preparing metadata (setup.py): finished with status 'done'\n",
            "Collecting nvidia-cudnn-cu11 (from nvidia-tensorrt)\n",
            "  Downloading https://developer.download.nvidia.com/compute/redist/nvidia-cudnn-cu11/nvidia-cudnn-cu11-2022.5.19.tar.gz (16 kB)\n",
            "  Preparing metadata (setup.py): started\n",
            "  Preparing metadata (setup.py): finished with status 'done'\n",
            "Collecting nvidia-cublas-cu11 (from nvidia-tensorrt)\n",
            "  Downloading https://developer.download.nvidia.com/compute/redist/nvidia-cublas-cu11/nvidia-cublas-cu11-2022.4.8.tar.gz (16 kB)\n",
            "  Preparing metadata (setup.py): started\n",
            "  Preparing metadata (setup.py): finished with status 'done'\n",
            "Collecting nvidia-cublas-cu117 (from nvidia-cublas-cu11->nvidia-tensorrt)\n",
            "  Downloading https://developer.download.nvidia.com/compute/redist/nvidia-cublas-cu117/nvidia_cublas_cu117-11.10.1.25-py3-none-manylinux1_x86_64.whl (333.1 MB)\n",
            "     ━━━━━━━━━━━━━━━━━━━━━━━━━━━━━━━━━━━━━━━━ 333.1/333.1 MB 271.2 MB/s eta 0:00:00\n",
            "Collecting nvidia-cuda-runtime-cu117 (from nvidia-cuda-runtime-cu11->nvidia-tensorrt)\n",
            "  Downloading https://developer.download.nvidia.com/compute/redist/nvidia-cuda-runtime-cu117/nvidia_cuda_runtime_cu117-11.7.60-py3-none-manylinux1_x86_64.whl (849 kB)\n",
            "     ━━━━━━━━━━━━━━━━━━━━━━━━━━━━━━━━━━━━━━━━ 849.3/849.3 kB 290.6 MB/s eta 0:00:00\n",
            "Collecting nvidia-cudnn-cu116 (from nvidia-cudnn-cu11->nvidia-tensorrt)\n",
            "  Downloading https://developer.download.nvidia.com/compute/redist/nvidia-cudnn-cu116/nvidia_cudnn_cu116-8.4.0.27-py3-none-manylinux1_x86_64.whl (719.3 MB)\n",
            "     ━━━━━━━━━━━━━━━━━━━━━━━━━━━━━━━━━━━━━━━━ 719.3/719.3 MB 278.5 MB/s eta 0:00:00\n",
            "Requirement already satisfied: setuptools in /usr/local/lib/python3.10/dist-packages (from nvidia-cublas-cu117->nvidia-cublas-cu11->nvidia-tensorrt) (67.7.2)\n",
            "Requirement already satisfied: wheel in /usr/local/lib/python3.10/dist-packages (from nvidia-cublas-cu117->nvidia-cublas-cu11->nvidia-tensorrt) (0.41.3)\n",
            "Building wheels for collected packages: nvidia-cublas-cu11, nvidia-cuda-runtime-cu11, nvidia-cudnn-cu11\n",
            "  Building wheel for nvidia-cublas-cu11 (setup.py): started\n",
            "  Building wheel for nvidia-cublas-cu11 (setup.py): finished with status 'done'\n",
            "  Created wheel for nvidia-cublas-cu11: filename=nvidia_cublas_cu11-2022.4.8-py3-none-any.whl size=15605 sha256=9a314caf079e06205c00fae545fbc604797b052e4debcb912e58f549ebd3f2b6\n",
            "  Stored in directory: /tmp/pip-ephem-wheel-cache-vhbj7eop/wheels/8f/ed/66/aa1caefa04698673b59e1799fface640a8f6e840e59b9c27e3\n",
            "  Building wheel for nvidia-cuda-runtime-cu11 (setup.py): started\n",
            "  Building wheel for nvidia-cuda-runtime-cu11 (setup.py): finished with status 'done'\n",
            "  Created wheel for nvidia-cuda-runtime-cu11: filename=nvidia_cuda_runtime_cu11-2022.4.25-py3-none-any.whl size=15676 sha256=1304dc9184a637bcfabc2324730795df4b1ce83f7b462b0d027bb77b9fde2502\n",
            "  Stored in directory: /tmp/pip-ephem-wheel-cache-vhbj7eop/wheels/13/1a/0c/e13ce07df95cd19a0671df35ef74895be1f1bf2a62437aa1a9\n",
            "  Building wheel for nvidia-cudnn-cu11 (setup.py): started\n",
            "  Building wheel for nvidia-cudnn-cu11 (setup.py): finished with status 'done'\n",
            "  Created wheel for nvidia-cudnn-cu11: filename=nvidia_cudnn_cu11-2022.5.19-py3-none-any.whl size=15599 sha256=ef3ab73c7c40fd1c63592385ab6640406e0560cb4f2416171fa5ad73aefeb411\n",
            "  Stored in directory: /tmp/pip-ephem-wheel-cache-vhbj7eop/wheels/dd/54/d7/1fe1c468474961cf9e43e85e89fa73b9d41f1608b70e753b03\n",
            "Successfully built nvidia-cublas-cu11 nvidia-cuda-runtime-cu11 nvidia-cudnn-cu11\n",
            "Installing collected packages: nvidia-cudnn-cu116, nvidia-cuda-runtime-cu117, nvidia-cublas-cu117, nvidia-cudnn-cu11, nvidia-cuda-runtime-cu11, nvidia-cublas-cu11, nvidia-tensorrt\n",
            "Successfully installed nvidia-cublas-cu11-2022.4.8 nvidia-cublas-cu117-11.10.1.25 nvidia-cuda-runtime-cu11-2022.4.25 nvidia-cuda-runtime-cu117-11.7.60 nvidia-cudnn-cu11-2022.5.19 nvidia-cudnn-cu116-8.4.0.27 nvidia-tensorrt-8.4.3.1\n",
            "\n",
            "\u001b[31m\u001b[1mrequirements:\u001b[0m AutoUpdate success ✅ 42.5s, installed 1 package: ['nvidia-tensorrt']\n",
            "\u001b[31m\u001b[1mrequirements:\u001b[0m ⚠️ \u001b[1mRestart runtime or rerun command for updates to take effect\u001b[0m\n",
            "\n",
            "\n",
            "\u001b[34m\u001b[1mONNX:\u001b[0m starting export with onnx 1.15.0...\n",
            "\u001b[34m\u001b[1mONNX:\u001b[0m export success ✅ 0.8s, saved as /content/gdrive/MyDrive/AI_Architect/yolov5/runs/train/RED4Digit1101_epho10/weights/best.onnx (27.3 MB)\n",
            "\n",
            "\u001b[34m\u001b[1mTensorRT:\u001b[0m starting export with TensorRT 8.4.3.1...\n",
            "[11/10/2023-11:09:07] [TRT] [I] [MemUsageChange] Init CUDA: CPU +258, GPU +0, now: CPU 2479, GPU 1816 (MiB)\n",
            "[11/10/2023-11:09:09] [TRT] [I] [MemUsageChange] Init builder kernel library: CPU +136, GPU +46, now: CPU 2634, GPU 1862 (MiB)\n",
            "/content/gdrive/MyDrive/AI_Architect/yolov5/export.py:344: DeprecationWarning: Use set_memory_pool_limit instead.\n",
            "  config.max_workspace_size = workspace * 1 << 30\n",
            "[11/10/2023-11:09:09] [TRT] [I] ----------------------------------------------------------------\n",
            "[11/10/2023-11:09:09] [TRT] [I] Input filename:   /content/gdrive/MyDrive/AI_Architect/yolov5/runs/train/RED4Digit1101_epho10/weights/best.onnx\n",
            "[11/10/2023-11:09:09] [TRT] [I] ONNX IR version:  0.0.7\n",
            "[11/10/2023-11:09:09] [TRT] [I] Opset version:    12\n",
            "[11/10/2023-11:09:09] [TRT] [I] Producer name:    pytorch\n",
            "[11/10/2023-11:09:09] [TRT] [I] Producer version: 2.1.0\n",
            "[11/10/2023-11:09:09] [TRT] [I] Domain:           \n",
            "[11/10/2023-11:09:09] [TRT] [I] Model version:    0\n",
            "[11/10/2023-11:09:09] [TRT] [I] Doc string:       \n",
            "[11/10/2023-11:09:09] [TRT] [I] ----------------------------------------------------------------\n",
            "[11/10/2023-11:09:09] [TRT] [W] onnx2trt_utils.cpp:369: Your ONNX model has been generated with INT64 weights, while TensorRT does not natively support INT64. Attempting to cast down to INT32.\n",
            "\u001b[34m\u001b[1mTensorRT:\u001b[0m input \"images\" with shape(1, 3, 640, 640) DataType.FLOAT\n",
            "\u001b[34m\u001b[1mTensorRT:\u001b[0m output \"output0\" with shape(1, 25200, 15) DataType.FLOAT\n",
            "\u001b[34m\u001b[1mTensorRT:\u001b[0m building FP32 engine as /content/gdrive/MyDrive/AI_Architect/yolov5/runs/train/RED4Digit1101_epho10/weights/best.engine\n",
            "/content/gdrive/MyDrive/AI_Architect/yolov5/export.py:371: DeprecationWarning: Use build_serialized_network instead.\n",
            "  with builder.build_engine(network, config) as engine, open(f, 'wb') as t:\n",
            "[11/10/2023-11:09:09] [TRT] [I] [MemUsageChange] Init cuBLAS/cuBLASLt: CPU +0, GPU +32, now: CPU 2666, GPU 1894 (MiB)\n",
            "[11/10/2023-11:09:09] [TRT] [I] [MemUsageChange] Init cuDNN: CPU +0, GPU +34, now: CPU 2666, GPU 1928 (MiB)\n",
            "[11/10/2023-11:09:09] [TRT] [I] Local timing cache in use. Profiling results in this builder pass will not be stored.\n",
            "[11/10/2023-11:09:55] [TRT] [I] Some tactics do not have sufficient workspace memory to run. Increasing workspace size will enable more tactics, please check verbose output for requested sizes.\n",
            "[11/10/2023-11:10:57] [TRT] [I] Detected 1 inputs and 4 output network tensors.\n",
            "[11/10/2023-11:10:57] [TRT] [I] Total Host Persistent Memory: 75680\n",
            "[11/10/2023-11:10:57] [TRT] [I] Total Device Persistent Memory: 1516032\n",
            "[11/10/2023-11:10:57] [TRT] [I] Total Scratch Memory: 134217728\n",
            "[11/10/2023-11:10:57] [TRT] [I] [MemUsageStats] Peak memory usage of TRT CPU/GPU memory allocators: CPU 0 MiB, GPU 0 MiB\n",
            "[11/10/2023-11:10:57] [TRT] [I] [BlockAssignment] Algorithm ShiftNTopDown took 25.492ms to assign 7 blocks to 140 nodes requiring 158384128 bytes.\n",
            "[11/10/2023-11:10:57] [TRT] [I] Total Activation Memory: 158384128\n",
            "[11/10/2023-11:10:57] [TRT] [I] [MemUsageChange] Init cuDNN: CPU +0, GPU +34, now: CPU 2684, GPU 1992 (MiB)\n",
            "[11/10/2023-11:10:57] [TRT] [I] [MemUsageChange] TensorRT-managed allocation in building engine: CPU +0, GPU +0, now: CPU 0, GPU 0 (MiB)\n",
            "[11/10/2023-11:10:57] [TRT] [W] The getMaxBatchSize() function should not be used with an engine built from a network created with NetworkDefinitionCreationFlag::kEXPLICIT_BATCH flag. This function will always return 1.\n",
            "[11/10/2023-11:10:57] [TRT] [W] The getMaxBatchSize() function should not be used with an engine built from a network created with NetworkDefinitionCreationFlag::kEXPLICIT_BATCH flag. This function will always return 1.\n",
            "\u001b[34m\u001b[1mTensorRT:\u001b[0m export success ✅ 153.7s, saved as /content/gdrive/MyDrive/AI_Architect/yolov5/runs/train/RED4Digit1101_epho10/weights/best.engine (31.3 MB)\n",
            "\n",
            "Export complete (167.4s)\n",
            "Results saved to \u001b[1m/content/gdrive/MyDrive/AI_Architect/yolov5/runs/train/RED4Digit1101_epho10/weights\u001b[0m\n",
            "Detect:          python detect.py --weights /content/gdrive/MyDrive/AI_Architect/yolov5/runs/train/RED4Digit1101_epho10/weights/best.engine \n",
            "Validate:        python val.py --weights /content/gdrive/MyDrive/AI_Architect/yolov5/runs/train/RED4Digit1101_epho10/weights/best.engine \n",
            "PyTorch Hub:     model = torch.hub.load('ultralytics/yolov5', 'custom', '/content/gdrive/MyDrive/AI_Architect/yolov5/runs/train/RED4Digit1101_epho10/weights/best.engine')  \n",
            "Visualize:       https://netron.app\n"
          ]
        }
      ],
      "source": [
        "#custom Data Export\n",
        "!python export.py --device 0 --data /content/gdrive/MyDrive/DataSet/RedVer2/RED4Digit-2/data.yaml --weights /content/gdrive/MyDrive/AI_Architect/yolov5/runs/train/RED4Digit1101_epho10/weights/best.pt --include engine"
      ]
    },
    {
      "cell_type": "code",
      "execution_count": 11,
      "metadata": {
        "colab": {
          "base_uri": "https://localhost:8080/"
        },
        "id": "qsUi8b_ciTRm",
        "outputId": "5cc163cb-0b91-4901-aa96-30f9adf16f31"
      },
      "outputs": [
        {
          "output_type": "stream",
          "name": "stdout",
          "text": [
            "\u001b[34m\u001b[1mexport: \u001b[0mdata=data.yaml, weights=['./runs/train/mask_yolov5s_epho_150/weights/best.pt'], imgsz=[640, 640], batch_size=1, device=cpu, half=False, inplace=False, keras=False, optimize=False, int8=True, dynamic=False, simplify=False, opset=17, verbose=False, workspace=4, nms=False, agnostic_nms=False, topk_per_class=100, topk_all=100, iou_thres=0.45, conf_thres=0.25, include=['tflite']\n",
            "YOLOv5 🚀 v7.0-211-g94e943e Python-3.10.12 torch-2.1.0+cu118 CPU\n",
            "\n",
            "Fusing layers... \n",
            "YOLOv5s summary: 157 layers, 7037095 parameters, 0 gradients, 15.8 GFLOPs\n",
            "\n",
            "\u001b[34m\u001b[1mPyTorch:\u001b[0m starting from runs/train/mask_yolov5s_epho_150/weights/best.pt with output shape (1, 25200, 15) (14.1 MB)\n",
            "2023-11-10 11:07:07.213653: E tensorflow/compiler/xla/stream_executor/cuda/cuda_dnn.cc:9342] Unable to register cuDNN factory: Attempting to register factory for plugin cuDNN when one has already been registered\n",
            "2023-11-10 11:07:07.213705: E tensorflow/compiler/xla/stream_executor/cuda/cuda_fft.cc:609] Unable to register cuFFT factory: Attempting to register factory for plugin cuFFT when one has already been registered\n",
            "2023-11-10 11:07:07.213736: E tensorflow/compiler/xla/stream_executor/cuda/cuda_blas.cc:1518] Unable to register cuBLAS factory: Attempting to register factory for plugin cuBLAS when one has already been registered\n",
            "Traceback (most recent call last):\n",
            "  File \"/content/gdrive/MyDrive/AI_Architect/yolov5/export.py\", line 863, in <module>\n",
            "    main(opt)\n",
            "  File \"/content/gdrive/MyDrive/AI_Architect/yolov5/export.py\", line 858, in main\n",
            "    run(**vars(opt))\n",
            "  File \"/usr/local/lib/python3.10/dist-packages/torch/utils/_contextlib.py\", line 115, in decorate_context\n",
            "    return func(*args, **kwargs)\n",
            "  File \"/content/gdrive/MyDrive/AI_Architect/yolov5/export.py\", line 782, in run\n",
            "    f[5], s_model = export_saved_model(model.cpu(),\n",
            "  File \"/content/gdrive/MyDrive/AI_Architect/yolov5/export.py\", line 125, in outer_func\n",
            "    f, model = inner_func(*args, **kwargs)\n",
            "  File \"/content/gdrive/MyDrive/AI_Architect/yolov5/export.py\", line 397, in export_saved_model\n",
            "    from models.tf import TFModel\n",
            "  File \"<frozen importlib._bootstrap>\", line 1027, in _find_and_load\n",
            "  File \"<frozen importlib._bootstrap>\", line 1006, in _find_and_load_unlocked\n",
            "  File \"<frozen importlib._bootstrap>\", line 688, in _load_unlocked\n",
            "  File \"<frozen importlib._bootstrap_external>\", line 879, in exec_module\n",
            "  File \"<frozen importlib._bootstrap_external>\", line 975, in get_code\n",
            "  File \"<frozen importlib._bootstrap_external>\", line 1074, in get_data\n",
            "KeyboardInterrupt\n"
          ]
        }
      ],
      "source": [
        "#8bit 양자화\n",
        "!python3 export.py --data data.yaml --weights ./runs/train/mask_yolov5s_epho_150/weights/best.pt --include tflite --int8"
      ]
    },
    {
      "cell_type": "markdown",
      "metadata": {
        "id": "9CLICS8DkCFV"
      },
      "source": [
        "#Weight File Down Load"
      ]
    },
    {
      "cell_type": "code",
      "execution_count": null,
      "metadata": {
        "colab": {
          "base_uri": "https://localhost:8080/",
          "height": 35
        },
        "id": "FCnomhrbjzrR",
        "outputId": "b2866a70-cee2-4bb8-9c88-71d61c0d60c7"
      },
      "outputs": [
        {
          "data": {
            "application/vnd.google.colaboratory.intrinsic+json": {
              "type": "string"
            },
            "text/plain": [
              "'/content/gdrive/MyDrive/AI_Architect/yolov5'"
            ]
          },
          "execution_count": 42,
          "metadata": {},
          "output_type": "execute_result"
        }
      ],
      "source": [
        "%pwd"
      ]
    },
    {
      "cell_type": "code",
      "execution_count": null,
      "metadata": {
        "colab": {
          "base_uri": "https://localhost:8080/"
        },
        "id": "H8REjhg6j1qc",
        "outputId": "ec2e8e9c-fbd2-4638-838c-d47535a4db85"
      },
      "outputs": [
        {
          "name": "stdout",
          "output_type": "stream",
          "text": [
            "/content/gdrive/MyDrive/AI_Architect/yolov5/runs/train/RED4Digit1013_epho100/weights\n"
          ]
        }
      ],
      "source": [
        "%cd /content/gdrive/MyDrive/AI_Architect/yolov5/runs/train/RED4Digit1013_epho100/weights/"
      ]
    },
    {
      "cell_type": "code",
      "execution_count": null,
      "metadata": {
        "colab": {
          "base_uri": "https://localhost:8080/"
        },
        "id": "SSh9Cxlyj-CD",
        "outputId": "d22a5fff-b8ce-475d-a827-dcccc30417b4"
      },
      "outputs": [
        {
          "name": "stdout",
          "output_type": "stream",
          "text": [
            "total 72599\n",
            "-rw------- 1 root root     1280 Oct 15 04:15 best-int8_edgetpu.log\n",
            "-rw------- 1 root root  8709664 Oct 15 04:15 best-int8_edgetpu.tflite\n",
            "-rw------- 1 root root  7395720 Oct 15 04:15 best-int8.tflite\n",
            "-rw------- 1 root root 28596141 Oct 15 03:52 best.onnx\n",
            "-rw------- 1 root root 14816381 Oct 13 12:23 best.pt\n",
            "drwx------ 4 root root     4096 Oct 15 04:10 \u001b[0m\u001b[01;34mbest_saved_model\u001b[0m/\n",
            "-rw------- 1 root root 14816381 Oct 13 12:23 last.pt\n"
          ]
        }
      ],
      "source": [
        "%ls -l"
      ]
    },
    {
      "cell_type": "code",
      "execution_count": null,
      "metadata": {
        "id": "VEU7eQS7kFlO"
      },
      "outputs": [],
      "source": [
        "#file\n",
        "from google.colab import files"
      ]
    },
    {
      "cell_type": "code",
      "execution_count": null,
      "metadata": {
        "colab": {
          "base_uri": "https://localhost:8080/",
          "height": 17
        },
        "id": "K2P27cdUkSfn",
        "outputId": "3af6695c-0c06-428b-d529-ebd8608bd1e3"
      },
      "outputs": [
        {
          "data": {
            "application/javascript": [
              "\n",
              "    async function download(id, filename, size) {\n",
              "      if (!google.colab.kernel.accessAllowed) {\n",
              "        return;\n",
              "      }\n",
              "      const div = document.createElement('div');\n",
              "      const label = document.createElement('label');\n",
              "      label.textContent = `Downloading \"${filename}\": `;\n",
              "      div.appendChild(label);\n",
              "      const progress = document.createElement('progress');\n",
              "      progress.max = size;\n",
              "      div.appendChild(progress);\n",
              "      document.body.appendChild(div);\n",
              "\n",
              "      const buffers = [];\n",
              "      let downloaded = 0;\n",
              "\n",
              "      const channel = await google.colab.kernel.comms.open(id);\n",
              "      // Send a message to notify the kernel that we're ready.\n",
              "      channel.send({})\n",
              "\n",
              "      for await (const message of channel.messages) {\n",
              "        // Send a message to notify the kernel that we're ready.\n",
              "        channel.send({})\n",
              "        if (message.buffers) {\n",
              "          for (const buffer of message.buffers) {\n",
              "            buffers.push(buffer);\n",
              "            downloaded += buffer.byteLength;\n",
              "            progress.value = downloaded;\n",
              "          }\n",
              "        }\n",
              "      }\n",
              "      const blob = new Blob(buffers, {type: 'application/binary'});\n",
              "      const a = document.createElement('a');\n",
              "      a.href = window.URL.createObjectURL(blob);\n",
              "      a.download = filename;\n",
              "      div.appendChild(a);\n",
              "      a.click();\n",
              "      div.remove();\n",
              "    }\n",
              "  "
            ],
            "text/plain": [
              "<IPython.core.display.Javascript object>"
            ]
          },
          "metadata": {},
          "output_type": "display_data"
        },
        {
          "data": {
            "application/javascript": [
              "download(\"download_cd0ca23d-ac56-4dfd-b416-138b5d7063f3\", \"best-int8.tflite\", 7395720)"
            ],
            "text/plain": [
              "<IPython.core.display.Javascript object>"
            ]
          },
          "metadata": {},
          "output_type": "display_data"
        }
      ],
      "source": [
        "files.download('best-int8.tflite')"
      ]
    },
    {
      "cell_type": "code",
      "execution_count": null,
      "metadata": {
        "colab": {
          "base_uri": "https://localhost:8080/",
          "height": 34
        },
        "id": "m4KO-4wbkXBC",
        "outputId": "dbfcfd76-b753-4d3c-dec6-b82f7e60d323"
      },
      "outputs": [
        {
          "data": {
            "application/javascript": [
              "\n",
              "    async function download(id, filename, size) {\n",
              "      if (!google.colab.kernel.accessAllowed) {\n",
              "        return;\n",
              "      }\n",
              "      const div = document.createElement('div');\n",
              "      const label = document.createElement('label');\n",
              "      label.textContent = `Downloading \"${filename}\": `;\n",
              "      div.appendChild(label);\n",
              "      const progress = document.createElement('progress');\n",
              "      progress.max = size;\n",
              "      div.appendChild(progress);\n",
              "      document.body.appendChild(div);\n",
              "\n",
              "      const buffers = [];\n",
              "      let downloaded = 0;\n",
              "\n",
              "      const channel = await google.colab.kernel.comms.open(id);\n",
              "      // Send a message to notify the kernel that we're ready.\n",
              "      channel.send({})\n",
              "\n",
              "      for await (const message of channel.messages) {\n",
              "        // Send a message to notify the kernel that we're ready.\n",
              "        channel.send({})\n",
              "        if (message.buffers) {\n",
              "          for (const buffer of message.buffers) {\n",
              "            buffers.push(buffer);\n",
              "            downloaded += buffer.byteLength;\n",
              "            progress.value = downloaded;\n",
              "          }\n",
              "        }\n",
              "      }\n",
              "      const blob = new Blob(buffers, {type: 'application/binary'});\n",
              "      const a = document.createElement('a');\n",
              "      a.href = window.URL.createObjectURL(blob);\n",
              "      a.download = filename;\n",
              "      div.appendChild(a);\n",
              "      a.click();\n",
              "      div.remove();\n",
              "    }\n",
              "  "
            ],
            "text/plain": [
              "<IPython.core.display.Javascript object>"
            ]
          },
          "metadata": {},
          "output_type": "display_data"
        },
        {
          "data": {
            "application/javascript": [
              "download(\"download_33942e97-ee25-45a4-aaf6-4ab5fc274c62\", \"best-int8_edgetpu.tflite\", 8709664)"
            ],
            "text/plain": [
              "<IPython.core.display.Javascript object>"
            ]
          },
          "metadata": {},
          "output_type": "display_data"
        }
      ],
      "source": [
        "fileEdage = 'best-int8_edgetpu.tflite'\n",
        "files.download(fileEdage)"
      ]
    },
    {
      "cell_type": "code",
      "execution_count": null,
      "metadata": {
        "id": "Xz_B3Nskk4aS"
      },
      "outputs": [],
      "source": []
    }
  ],
  "metadata": {
    "accelerator": "GPU",
    "colab": {
      "provenance": [],
      "machine_shape": "hm",
      "gpuType": "V100",
      "authorship_tag": "ABX9TyMcbhlaYk0ERiYCerNYgXZU",
      "include_colab_link": true
    },
    "kernelspec": {
      "display_name": "Python 3",
      "name": "python3"
    },
    "language_info": {
      "name": "python"
    }
  },
  "nbformat": 4,
  "nbformat_minor": 0
}