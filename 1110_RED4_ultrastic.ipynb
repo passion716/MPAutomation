{
  "cells": [
    {
      "cell_type": "markdown",
      "metadata": {
        "id": "view-in-github",
        "colab_type": "text"
      },
      "source": [
        "<a href=\"https://colab.research.google.com/github/passion716/MPAutomation/blob/main/1110_RED4_ultrastic.ipynb\" target=\"_parent\"><img src=\"https://colab.research.google.com/assets/colab-badge.svg\" alt=\"Open In Colab\"/></a>"
      ]
    },
    {
      "cell_type": "markdown",
      "metadata": {
        "id": "tw_cv55HbAip"
      },
      "source": [
        "#roboflow 관련 설치"
      ]
    },
    {
      "cell_type": "code",
      "execution_count": null,
      "metadata": {
        "id": "SNoqDlcGTfxF"
      },
      "outputs": [],
      "source": [
        "!pip install roboflow"
      ]
    },
    {
      "cell_type": "code",
      "execution_count": null,
      "metadata": {
        "colab": {
          "base_uri": "https://localhost:8080/"
        },
        "id": "UccKnnQVkA3m",
        "outputId": "11619c0e-1a05-4a6f-c3d3-8258a87ba386"
      },
      "outputs": [
        {
          "name": "stdout",
          "output_type": "stream",
          "text": [
            "PRETTY_NAME=\"Ubuntu 22.04.2 LTS\"\n",
            "NAME=\"Ubuntu\"\n",
            "VERSION_ID=\"22.04\"\n",
            "VERSION=\"22.04.2 LTS (Jammy Jellyfish)\"\n",
            "VERSION_CODENAME=jammy\n",
            "ID=ubuntu\n",
            "ID_LIKE=debian\n",
            "HOME_URL=\"https://www.ubuntu.com/\"\n",
            "SUPPORT_URL=\"https://help.ubuntu.com/\"\n",
            "BUG_REPORT_URL=\"https://bugs.launchpad.net/ubuntu/\"\n",
            "PRIVACY_POLICY_URL=\"https://www.ubuntu.com/legal/terms-and-policies/privacy-policy\"\n",
            "UBUNTU_CODENAME=jammy\n"
          ]
        }
      ],
      "source": [
        "#System 정보 조회\n",
        "!cat /etc/os-release"
      ]
    },
    {
      "cell_type": "code",
      "execution_count": null,
      "metadata": {
        "colab": {
          "base_uri": "https://localhost:8080/"
        },
        "id": "FzgyGPNsenhK",
        "outputId": "d72d8e80-b4e0-483c-d168-23f5a152cbef"
      },
      "outputs": [
        {
          "name": "stdout",
          "output_type": "stream",
          "text": [
            "Mounted at gdrive\n"
          ]
        }
      ],
      "source": [
        "from google.colab import drive\n",
        "drive.mount('gdrive')"
      ]
    },
    {
      "cell_type": "code",
      "execution_count": null,
      "metadata": {
        "colab": {
          "base_uri": "https://localhost:8080/"
        },
        "id": "vuKYQkH7TsVg",
        "outputId": "ac7634fb-caa8-4424-9561-607a38782678"
      },
      "outputs": [
        {
          "name": "stdout",
          "output_type": "stream",
          "text": [
            "/content/gdrive/MyDrive/AI_Architect/yolov5\n"
          ]
        }
      ],
      "source": [
        "#Dataset\n",
        "%cd /content/gdrive/MyDrive/AI_Architect/yolov5/"
      ]
    },
    {
      "cell_type": "code",
      "execution_count": null,
      "metadata": {
        "colab": {
          "base_uri": "https://localhost:8080/"
        },
        "id": "skm_zaGOUCQ8",
        "outputId": "dbabc7a7-9331-4a5d-fcca-629513b3a6a6"
      },
      "outputs": [
        {
          "name": "stdout",
          "output_type": "stream",
          "text": [
            "total 43287\n",
            "-rw------- 1 root root     8009 Aug 27 10:55 benchmarks.py\n",
            "-rw------- 1 root root 14816381 Aug 29 13:06 best.pt\n",
            "-rw------- 1 root root      393 Aug 27 10:55 CITATION.cff\n",
            "drwx------ 2 root root     4096 Aug 27 10:55 classify\n",
            "-rw------- 1 root root     5009 Aug 27 10:55 CONTRIBUTING.md\n",
            "drwx------ 2 root root     4096 Aug 27 10:55 data\n",
            "-rw------- 1 root root      178 Sep  8 06:32 data.yaml\n",
            "-rw------- 1 root root    14336 Aug 27 10:55 detect.py\n",
            "drwx------ 2 root root     4096 Oct 14 03:52 Digit4\n",
            "drwx------ 2 root root     4096 Sep  8 06:27 DigitalClock-2\n",
            "-rw------- 1 root root    41270 Aug 27 10:55 export.py\n",
            "-rw------- 1 root root     7769 Aug 27 10:55 hubconf.py\n",
            "-rw------- 1 root root    34523 Aug 27 10:55 LICENSE\n",
            "drwx------ 2 root root     4096 Aug 27 10:55 models\n",
            "-rw------- 1 root root      384 Oct 14 03:36 new_data.yaml\n",
            "drwx------ 2 root root     4096 Aug 27 11:02 __pycache__\n",
            "-rw------- 1 root root    41743 Aug 27 10:55 README.md\n",
            "-rw------- 1 root root    40752 Aug 27 10:55 README.zh-CN.md\n",
            "-rw------- 1 root root     1562 Aug 27 10:55 requirements.txt\n",
            "drwx------ 2 root root     4096 Aug 27 11:19 runs\n",
            "drwx------ 2 root root     4096 Aug 27 10:55 segment\n",
            "-rw------- 1 root root     1723 Aug 27 10:55 setup.cfg\n",
            "-rw------- 1 root root    33882 Aug 27 10:55 train.py\n",
            "-rw------- 1 root root    40951 Aug 27 10:55 tutorial.ipynb\n",
            "drwx------ 2 root root     4096 Aug 27 10:55 utils\n",
            "-rw------- 1 root root    20586 Aug 27 10:55 val.py\n",
            "-rw------- 1 root root 14808437 Aug 27 11:19 yolov5s.pt\n",
            "-rw------- 1 root root 14366141 Aug 17 13:09 Yolov5s.pt\n"
          ]
        }
      ],
      "source": [
        "!ls -l"
      ]
    },
    {
      "cell_type": "code",
      "execution_count": null,
      "metadata": {
        "colab": {
          "base_uri": "https://localhost:8080/"
        },
        "id": "340gZYAFkUCr",
        "outputId": "07f48ae6-9816-49c5-d116-6cbce3919c81"
      },
      "outputs": [
        {
          "name": "stdout",
          "output_type": "stream",
          "text": [
            "data.yaml  README.dataset.txt  README.roboflow.txt  \u001b[0m\u001b[01;34mtest\u001b[0m/  \u001b[01;34mtrain\u001b[0m/  \u001b[01;34mvalid\u001b[0m/\n"
          ]
        }
      ],
      "source": [
        "%ls /content/gdrive/MyDrive/DataSet/RedVer2/RED4Digit-2/"
      ]
    },
    {
      "cell_type": "code",
      "execution_count": null,
      "metadata": {
        "id": "3AuG6i-zkbH4"
      },
      "outputs": [],
      "source": [
        "%cd /content/gdrive/MyDrive/"
      ]
    },
    {
      "cell_type": "code",
      "execution_count": null,
      "metadata": {
        "colab": {
          "base_uri": "https://localhost:8080/"
        },
        "id": "pPZ6k0P6U1oq",
        "outputId": "f48b9c69-0695-4cfa-f65a-099c6cce9647"
      },
      "outputs": [
        {
          "name": "stdout",
          "output_type": "stream",
          "text": [
            "{'names': ['0', '1', '2', '3', '4', '5', '6', '7', '8', '9'], 'nc': 10, 'roboflow': {'license': 'CC BY 4.0', 'project': 'red4digit', 'url': 'https://universe.roboflow.com/korea-national-open-university-kdufy/red4digit/dataset/2', 'version': 2, 'workspace': 'korea-national-open-university-kdufy'}, 'test': '/content/gdrive/MyDrive/DataSet/RedVer2/RED4Digit-2/test/', 'train': '/content/gdrive/MyDrive/DataSet/RedVer2/RED4Digit-2/train/', 'val': '/content/gdrive/MyDrive/DataSet/RedVer2/RED4Digit-2/valid/'}\n",
            "{'names': ['0', '1', '2', '3', '4', '5', '6', '7', '8', '9'], 'nc': 10, 'roboflow': {'license': 'CC BY 4.0', 'project': 'red4digit', 'url': 'https://universe.roboflow.com/korea-national-open-university-kdufy/red4digit/dataset/2', 'version': 2, 'workspace': 'korea-national-open-university-kdufy'}, 'test': '/content/gdrive/MyDrive/DataSet/RedVer2/RED4Digit-2/test/images/', 'train': '/content/gdrive/MyDrive/DataSet/RedVer2/RED4Digit-2/train/images/', 'val': '/content/gdrive/MyDrive/DataSet/RedVer2/RED4Digit-2/valid/images/'}\n"
          ]
        }
      ],
      "source": [
        "#Data.yaml 에는 Data를 Image 까지 적어주어야 함.\n",
        "\n",
        "import yaml\n",
        "\n",
        "with open('/content/gdrive/MyDrive/DataSet/RedVer2/RED4Digit-2/data.yaml', 'r') as f:\n",
        "  data = yaml.safe_load(f)\n",
        "\n",
        "print(data)\n",
        "\n",
        "#Export 시 Image 경로 까지\n",
        "data['train'] = '/content/gdrive/MyDrive/DataSet/RedVer2/RED4Digit-2/train/images/'\n",
        "data['test'] = '/content/gdrive/MyDrive/DataSet/RedVer2/RED4Digit-2/test/images/'\n",
        "data['val'] = '/content/gdrive/MyDrive/DataSet/RedVer2/RED4Digit-2/valid/images/'\n",
        "\n",
        "with open('/content/gdrive/MyDrive/DataSet/RedVer2/RED4Digit-2/data.yaml', 'w') as f:\n",
        "  yaml.dump(data, f)\n",
        "\n",
        "print(data)"
      ]
    },
    {
      "cell_type": "code",
      "execution_count": null,
      "metadata": {
        "colab": {
          "base_uri": "https://localhost:8080/"
        },
        "id": "8ujNlHneVAvt",
        "outputId": "1d9627de-2a00-44b7-ae0c-9519a21bf3f1"
      },
      "outputs": [
        {
          "name": "stdout",
          "output_type": "stream",
          "text": [
            "names:\n",
            "- '0'\n",
            "- '1'\n",
            "- '2'\n",
            "- '3'\n",
            "- '4'\n",
            "- '5'\n",
            "- '6'\n",
            "- '7'\n",
            "- '8'\n",
            "- '9'\n",
            "nc: 10\n",
            "roboflow:\n",
            "  license: CC BY 4.0\n",
            "  project: red4digit\n",
            "  url: https://universe.roboflow.com/korea-national-open-university-kdufy/red4digit/dataset/1\n",
            "  version: 1\n",
            "  workspace: korea-national-open-university-kdufy\n",
            "test: /content/gdrive/MyDrive/AI_Architect/yolov5/Digit4/RED4Digit-1/test/images\n",
            "train: /content/gdrive/MyDrive/AI_Architect/yolov5/Digit4/RED4Digit-1/train/images\n",
            "val: /content/gdrive/MyDrive/AI_Architect/yolov5/Digit4/RED4Digit-1/valid/images\n"
          ]
        }
      ],
      "source": [
        "!cat /content/gdrive/MyDrive/AI_Architect/yolov5/Digit4/RED4Digit-1/data.yaml"
      ]
    },
    {
      "cell_type": "markdown",
      "metadata": {
        "id": "BtdYWchOb0KH"
      },
      "source": [
        "#Roboflow 다운로드"
      ]
    },
    {
      "cell_type": "code",
      "execution_count": null,
      "metadata": {
        "colab": {
          "base_uri": "https://localhost:8080/"
        },
        "id": "c28HvQMPThZZ",
        "outputId": "77804929-f31e-45e2-fc76-e7848880ab9a"
      },
      "outputs": [
        {
          "name": "stdout",
          "output_type": "stream",
          "text": [
            "loading Roboflow workspace...\n",
            "loading Roboflow project...\n"
          ]
        },
        {
          "name": "stderr",
          "output_type": "stream",
          "text": [
            "Downloading Dataset Version Zip in RED4Digit-1 to yolov5pytorch:: 100%|██████████| 86657/86657 [00:07<00:00, 11247.80it/s]"
          ]
        },
        {
          "name": "stdout",
          "output_type": "stream",
          "text": [
            "\n"
          ]
        },
        {
          "name": "stderr",
          "output_type": "stream",
          "text": [
            "\n",
            "Extracting Dataset Version Zip to RED4Digit-1 in yolov5pytorch:: 100%|██████████| 664/664 [00:04<00:00, 159.02it/s]\n"
          ]
        }
      ],
      "source": [
        "from roboflow import Roboflow\n",
        "rf = Roboflow(api_key=\"btaGdQRnQUWB0dmAsDdr\")\n",
        "project = rf.workspace(\"korea-national-open-university-kdufy\").project(\"red4digit\")\n",
        "dataset = project.version(1).download(\"yolov5\")\n"
      ]
    },
    {
      "cell_type": "code",
      "execution_count": null,
      "metadata": {
        "colab": {
          "base_uri": "https://localhost:8080/"
        },
        "id": "IaKAPkIChOWA",
        "outputId": "4aefadc5-b346-465e-b346-546100c02203"
      },
      "outputs": [
        {
          "name": "stdout",
          "output_type": "stream",
          "text": [
            "total 15\n",
            "-rw------- 1 root root  516 Oct 15 03:43 data.yaml\n",
            "-rw------- 1 root root  158 Oct 14 03:52 README.dataset.txt\n",
            "-rw------- 1 root root 1194 Oct 14 03:52 README.roboflow.txt\n",
            "drwx------ 2 root root 4096 Oct 14 03:52 \u001b[0m\u001b[01;34mtest\u001b[0m/\n",
            "drwx------ 2 root root 4096 Oct 14 03:52 \u001b[01;34mtrain\u001b[0m/\n",
            "drwx------ 2 root root 4096 Oct 14 03:53 \u001b[01;34mvalid\u001b[0m/\n"
          ]
        }
      ],
      "source": [
        "%ls -l"
      ]
    },
    {
      "cell_type": "markdown",
      "metadata": {
        "id": "XD1Ttd8ccGso"
      },
      "source": [
        "# Yolov5 Package 설치"
      ]
    },
    {
      "cell_type": "code",
      "execution_count": null,
      "metadata": {
        "id": "Zx8AMGTePKdm"
      },
      "outputs": [],
      "source": [
        "\n",
        "!pip install -r requirements.txt"
      ]
    },
    {
      "cell_type": "markdown",
      "metadata": {
        "id": "jgaNrF_DcRco"
      },
      "source": [
        "#yolov5 Dir 옮기기"
      ]
    },
    {
      "cell_type": "code",
      "execution_count": null,
      "metadata": {
        "colab": {
          "base_uri": "https://localhost:8080/",
          "height": 35
        },
        "id": "nwhj_DqycbU4",
        "outputId": "6a8ef949-cb87-4ce1-f16f-0e42d8949079"
      },
      "outputs": [
        {
          "data": {
            "application/vnd.google.colaboratory.intrinsic+json": {
              "type": "string"
            },
            "text/plain": [
              "'/content/gdrive/MyDrive/AI_Architect/yolov5'"
            ]
          },
          "execution_count": 21,
          "metadata": {},
          "output_type": "execute_result"
        }
      ],
      "source": [
        "%pwd"
      ]
    },
    {
      "cell_type": "code",
      "execution_count": null,
      "metadata": {
        "colab": {
          "base_uri": "https://localhost:8080/"
        },
        "id": "HsxSPB-pcfxg",
        "outputId": "062822f2-efe4-4bf6-c918-7b30ee44162c"
      },
      "outputs": [
        {
          "name": "stdout",
          "output_type": "stream",
          "text": [
            "/content/gdrive/MyDrive/AI_Architect/yolov5\n"
          ]
        }
      ],
      "source": [
        "%cd /content/gdrive/MyDrive/AI_Architect/yolov5/"
      ]
    },
    {
      "cell_type": "code",
      "execution_count": null,
      "metadata": {
        "colab": {
          "base_uri": "https://localhost:8080/"
        },
        "id": "RFoibI06lUIz",
        "outputId": "59e0a834-da32-4dfe-ecdb-ad74b3019205"
      },
      "outputs": [
        {
          "name": "stdout",
          "output_type": "stream",
          "text": [
            "benchmarks.py\t data\t\t export.py\t__pycache__\t  segment\t  val.py\n",
            "best.pt\t\t data.yaml\t hubconf.py\tREADME.md\t  setup.cfg\t  yolov5s.pt\n",
            "CITATION.cff\t detect.py\t LICENSE\tREADME.zh-CN.md   train.py\t  Yolov5s.pt\n",
            "classify\t Digit4\t\t models\t\trequirements.txt  tutorial.ipynb\n",
            "CONTRIBUTING.md  DigitalClock-2  new_data.yaml\truns\t\t  utils\n"
          ]
        }
      ],
      "source": [
        "!ls"
      ]
    },
    {
      "cell_type": "code",
      "execution_count": null,
      "metadata": {
        "colab": {
          "base_uri": "https://localhost:8080/"
        },
        "id": "kAB4XptecWTs",
        "outputId": "934c0705-9b89-44ca-e64a-05535dff2400"
      },
      "outputs": [
        {
          "name": "stdout",
          "output_type": "stream",
          "text": [
            "/content/gdrive/MyDrive/AI_Architect/yolov5/runs/train/RED4Digit1101_epho10/weights/best.pt\n"
          ]
        }
      ],
      "source": [
        "!ls /content/gdrive/MyDrive/AI_Architect/yolov5/runs/train/RED4Digit1101_epho10/weights/best.pt"
      ]
    },
    {
      "cell_type": "markdown",
      "metadata": {
        "id": "MA9iIGm6cveZ"
      },
      "source": [
        "#Export 활용하기"
      ]
    },
    {
      "cell_type": "code",
      "execution_count": null,
      "metadata": {
        "id": "5KekgFB4hgR1"
      },
      "outputs": [],
      "source": [
        "!cat export.py"
      ]
    },
    {
      "cell_type": "code",
      "execution_count": null,
      "metadata": {
        "id": "oNIs39r2ibYU"
      },
      "outputs": [],
      "source": [
        "# Export Coco Data\n",
        "!python export.py --weights ./runs/train/RED4Digit1013_epho100/weights/best.pt --include onnx tflite edgetpu"
      ]
    },
    {
      "cell_type": "code",
      "execution_count": null,
      "metadata": {
        "colab": {
          "background_save": true,
          "base_uri": "https://localhost:8080/"
        },
        "id": "PtZL6xPxi0Ai",
        "outputId": "f0cf6d41-a628-41d9-8e7e-de8120546d45"
      },
      "outputs": [
        {
          "name": "stdout",
          "output_type": "stream",
          "text": [
            "\u001b[34m\u001b[1mexport: \u001b[0mdata=/content/gdrive/MyDrive/DataSet/RedVer2/RED4Digit-2/data.yaml, weights=['/content/gdrive/MyDrive/AI_Architect/yolov5/runs/train/RED4Digit1101_epho10/weights/best.pt'], imgsz=[640, 640], batch_size=1, device=cpu, half=False, inplace=False, keras=False, optimize=False, int8=False, dynamic=False, simplify=False, opset=17, verbose=False, workspace=4, nms=False, agnostic_nms=False, topk_per_class=100, topk_all=100, iou_thres=0.45, conf_thres=0.25, include=['tflite', 'edgetpu']\n",
            "YOLOv5 🚀 v7.0-211-g94e943e Python-3.10.12 torch-2.1.0+cu118 CPU\n",
            "\n",
            "Fusing layers... \n",
            "YOLOv5s summary: 157 layers, 7037095 parameters, 0 gradients, 15.8 GFLOPs\n",
            "\n",
            "\u001b[34m\u001b[1mPyTorch:\u001b[0m starting from /content/gdrive/MyDrive/AI_Architect/yolov5/runs/train/RED4Digit1101_epho10/weights/best.pt with output shape (1, 25200, 15) (14.1 MB)\n",
            "2023-11-03 09:50:18.106092: E tensorflow/compiler/xla/stream_executor/cuda/cuda_dnn.cc:9342] Unable to register cuDNN factory: Attempting to register factory for plugin cuDNN when one has already been registered\n",
            "2023-11-03 09:50:18.106148: E tensorflow/compiler/xla/stream_executor/cuda/cuda_fft.cc:609] Unable to register cuFFT factory: Attempting to register factory for plugin cuFFT when one has already been registered\n",
            "2023-11-03 09:50:18.106187: E tensorflow/compiler/xla/stream_executor/cuda/cuda_blas.cc:1518] Unable to register cuBLAS factory: Attempting to register factory for plugin cuBLAS when one has already been registered\n",
            "\n",
            "\u001b[34m\u001b[1mTensorFlow SavedModel:\u001b[0m starting export with tensorflow 2.14.0...\n",
            "\n",
            "                 from  n    params  module                                  arguments                     \n",
            "2023-11-03 09:50:20.297634: E tensorflow/compiler/xla/stream_executor/cuda/cuda_driver.cc:268] failed call to cuInit: CUDA_ERROR_NO_DEVICE: no CUDA-capable device is detected\n",
            "  0                -1  1      3520  models.common.Conv                      [3, 32, 6, 2, 2]              \n",
            "  1                -1  1     18560  models.common.Conv                      [32, 64, 3, 2]                \n",
            "  2                -1  1     18816  models.common.C3                        [64, 64, 1]                   \n",
            "  3                -1  1     73984  models.common.Conv                      [64, 128, 3, 2]               \n",
            "  4                -1  1    115712  models.common.C3                        [128, 128, 2]                 \n",
            "  5                -1  1    295424  models.common.Conv                      [128, 256, 3, 2]              \n",
            "  6                -1  1    625152  models.common.C3                        [256, 256, 3]                 \n",
            "  7                -1  1   1180672  models.common.Conv                      [256, 512, 3, 2]              \n",
            "  8                -1  1   1182720  models.common.C3                        [512, 512, 1]                 \n",
            "  9                -1  1    656896  models.common.SPPF                      [512, 512, 5]                 \n",
            " 10                -1  1    131584  models.common.Conv                      [512, 256, 1, 1]              \n",
            " 11                -1  1         0  torch.nn.modules.upsampling.Upsample    [None, 2, 'nearest']          \n",
            " 12           [-1, 6]  1         0  models.common.Concat                    [1]                           \n",
            " 13                -1  1    361984  models.common.C3                        [512, 256, 1, False]          \n",
            " 14                -1  1     33024  models.common.Conv                      [256, 128, 1, 1]              \n",
            " 15                -1  1         0  torch.nn.modules.upsampling.Upsample    [None, 2, 'nearest']          \n",
            " 16           [-1, 4]  1         0  models.common.Concat                    [1]                           \n",
            " 17                -1  1     90880  models.common.C3                        [256, 128, 1, False]          \n",
            " 18                -1  1    147712  models.common.Conv                      [128, 128, 3, 2]              \n",
            " 19          [-1, 14]  1         0  models.common.Concat                    [1]                           \n",
            " 20                -1  1    296448  models.common.C3                        [256, 256, 1, False]          \n",
            " 21                -1  1    590336  models.common.Conv                      [256, 256, 3, 2]              \n",
            " 22          [-1, 10]  1         0  models.common.Concat                    [1]                           \n",
            " 23                -1  1   1182720  models.common.C3                        [512, 512, 1, False]          \n",
            " 24      [17, 20, 23]  1     40455  models.yolo.Detect                      [10, [[10, 13, 16, 30, 33, 23], [30, 61, 62, 45, 59, 119], [116, 90, 156, 198, 373, 326]], [128, 256, 512], [640, 640]]\n",
            "Model: \"model\"\n",
            "__________________________________________________________________________________________________\n",
            " Layer (type)                Output Shape                 Param #   Connected to                  \n",
            "==================================================================================================\n",
            " input_1 (InputLayer)        [(1, 640, 640, 3)]           0         []                            \n",
            "                                                                                                  \n",
            " tf_conv (TFConv)            (1, 320, 320, 32)            3488      ['input_1[0][0]']             \n",
            "                                                                                                  \n",
            " tf_conv_1 (TFConv)          (1, 160, 160, 64)            18496     ['tf_conv[0][0]']             \n",
            "                                                                                                  \n",
            " tfc3 (TFC3)                 (1, 160, 160, 64)            18624     ['tf_conv_1[0][0]']           \n",
            "                                                                                                  \n",
            " tf_conv_7 (TFConv)          (1, 80, 80, 128)             73856     ['tfc3[0][0]']                \n",
            "                                                                                                  \n",
            " tfc3_1 (TFC3)               (1, 80, 80, 128)             115200    ['tf_conv_7[0][0]']           \n",
            "                                                                                                  \n",
            " tf_conv_15 (TFConv)         (1, 40, 40, 256)             295168    ['tfc3_1[0][0]']              \n",
            "                                                                                                  \n",
            " tfc3_2 (TFC3)               (1, 40, 40, 256)             623872    ['tf_conv_15[0][0]']          \n",
            "                                                                                                  \n",
            " tf_conv_25 (TFConv)         (1, 20, 20, 512)             1180160   ['tfc3_2[0][0]']              \n",
            "                                                                                                  \n",
            " tfc3_3 (TFC3)               (1, 20, 20, 512)             1181184   ['tf_conv_25[0][0]']          \n",
            "                                                                                                  \n",
            " tfsppf (TFSPPF)             (1, 20, 20, 512)             656128    ['tfc3_3[0][0]']              \n",
            "                                                                                                  \n",
            " tf_conv_33 (TFConv)         (1, 20, 20, 256)             131328    ['tfsppf[0][0]']              \n",
            "                                                                                                  \n",
            " tf_upsample (TFUpsample)    (1, 40, 40, 256)             0         ['tf_conv_33[0][0]']          \n",
            "                                                                                                  \n",
            " tf_concat (TFConcat)        (1, 40, 40, 512)             0         ['tf_upsample[0][0]',         \n",
            "                                                                     'tfc3_2[0][0]']              \n",
            "                                                                                                  \n",
            " tfc3_4 (TFC3)               (1, 40, 40, 256)             361216    ['tf_concat[0][0]']           \n",
            "                                                                                                  \n",
            " tf_conv_39 (TFConv)         (1, 40, 40, 128)             32896     ['tfc3_4[0][0]']              \n",
            "                                                                                                  \n",
            " tf_upsample_1 (TFUpsample)  (1, 80, 80, 128)             0         ['tf_conv_39[0][0]']          \n",
            "                                                                                                  \n",
            " tf_concat_1 (TFConcat)      (1, 80, 80, 256)             0         ['tf_upsample_1[0][0]',       \n",
            "                                                                     'tfc3_1[0][0]']              \n",
            "                                                                                                  \n",
            " tfc3_5 (TFC3)               (1, 80, 80, 128)             90496     ['tf_concat_1[0][0]']         \n",
            "                                                                                                  \n",
            " tf_conv_45 (TFConv)         (1, 40, 40, 128)             147584    ['tfc3_5[0][0]']              \n",
            "                                                                                                  \n",
            " tf_concat_2 (TFConcat)      (1, 40, 40, 256)             0         ['tf_conv_45[0][0]',          \n",
            "                                                                     'tf_conv_39[0][0]']          \n",
            "                                                                                                  \n",
            " tfc3_6 (TFC3)               (1, 40, 40, 256)             295680    ['tf_concat_2[0][0]']         \n",
            "                                                                                                  \n",
            " tf_conv_51 (TFConv)         (1, 20, 20, 256)             590080    ['tfc3_6[0][0]']              \n",
            "                                                                                                  \n",
            " tf_concat_3 (TFConcat)      (1, 20, 20, 512)             0         ['tf_conv_51[0][0]',          \n",
            "                                                                     'tf_conv_33[0][0]']          \n",
            "                                                                                                  \n",
            " tfc3_7 (TFC3)               (1, 20, 20, 512)             1181184   ['tf_concat_3[0][0]']         \n",
            "                                                                                                  \n",
            " tf_detect (TFDetect)        ((1, 25200, 15),             40455     ['tfc3_5[0][0]',              \n",
            "                             )                                       'tfc3_6[0][0]',              \n",
            "                                                                     'tfc3_7[0][0]']              \n",
            "                                                                                                  \n",
            "==================================================================================================\n",
            "Total params: 7037095 (26.84 MB)\n",
            "Trainable params: 0 (0.00 Byte)\n",
            "Non-trainable params: 7037095 (26.84 MB)\n",
            "__________________________________________________________________________________________________\n",
            "\u001b[34m\u001b[1mTensorFlow SavedModel:\u001b[0m export success ✅ 8.8s, saved as /content/gdrive/MyDrive/AI_Architect/yolov5/runs/train/RED4Digit1101_epho10/weights/best_saved_model (27.1 MB)\n",
            "\n",
            "\u001b[34m\u001b[1mTensorFlow Lite:\u001b[0m starting export with tensorflow 2.14.0...\n",
            "Traceback (most recent call last):\n",
            "  File \"/content/gdrive/MyDrive/AI_Architect/yolov5/export.py\", line 863, in <module>\n",
            "    main(opt)\n",
            "  File \"/content/gdrive/MyDrive/AI_Architect/yolov5/export.py\", line 858, in main\n",
            "    run(**vars(opt))\n",
            "  File \"/usr/local/lib/python3.10/dist-packages/torch/utils/_contextlib.py\", line 115, in decorate_context\n",
            "    return func(*args, **kwargs)\n",
            "  File \"/content/gdrive/MyDrive/AI_Architect/yolov5/export.py\", line 796, in run\n",
            "    f[7], _ = export_tflite(s_model, im, file, int8 or edgetpu, data=data, nms=nms, agnostic_nms=agnostic_nms)\n",
            "  File \"/content/gdrive/MyDrive/AI_Architect/yolov5/export.py\", line 125, in outer_func\n",
            "    f, model = inner_func(*args, **kwargs)\n",
            "  File \"/content/gdrive/MyDrive/AI_Architect/yolov5/export.py\", line 471, in export_tflite\n",
            "    tflite_model = converter.convert()\n",
            "  File \"/usr/local/lib/python3.10/dist-packages/tensorflow/lite/python/lite.py\", line 1125, in wrapper\n",
            "    return self._convert_and_export_metrics(convert_func, *args, **kwargs)\n",
            "  File \"/usr/local/lib/python3.10/dist-packages/tensorflow/lite/python/lite.py\", line 1079, in _convert_and_export_metrics\n",
            "    result = convert_func(self, *args, **kwargs)\n",
            "  File \"/usr/local/lib/python3.10/dist-packages/tensorflow/lite/python/lite.py\", line 1587, in convert\n",
            "    saved_model_convert_result = self._convert_as_saved_model()\n",
            "  File \"/usr/local/lib/python3.10/dist-packages/tensorflow/lite/python/lite.py\", line 1568, in _convert_as_saved_model\n",
            "    return super(TFLiteKerasModelConverterV2, self).convert(\n",
            "  File \"/usr/local/lib/python3.10/dist-packages/tensorflow/lite/python/lite.py\", line 1364, in convert\n",
            "    return self._optimize_tflite_model(\n",
            "  File \"/usr/local/lib/python3.10/dist-packages/tensorflow/lite/python/convert_phase.py\", line 205, in wrapper\n",
            "    return func(*args, **kwargs)\n",
            "  File \"/usr/local/lib/python3.10/dist-packages/tensorflow/lite/python/lite.py\", line 1023, in _optimize_tflite_model\n",
            "    model = self._quantize(\n",
            "  File \"/usr/local/lib/python3.10/dist-packages/tensorflow/lite/python/lite.py\", line 722, in _quantize\n",
            "    calibrated = calibrate_quantize.calibrate(\n",
            "  File \"/usr/local/lib/python3.10/dist-packages/tensorflow/lite/python/convert_phase.py\", line 205, in wrapper\n",
            "    return func(*args, **kwargs)\n",
            "  File \"/usr/local/lib/python3.10/dist-packages/tensorflow/lite/python/optimize/calibrator.py\", line 254, in calibrate\n",
            "    self._feed_tensors(dataset_gen, resize_input=True)\n",
            "  File \"/usr/local/lib/python3.10/dist-packages/tensorflow/lite/python/optimize/calibrator.py\", line 152, in _feed_tensors\n",
            "    self._calibrator.FeedTensor(input_array)\n",
            "KeyboardInterrupt\n"
          ]
        }
      ],
      "source": [
        "#custom Data Export\n",
        "!python export.py --data /content/gdrive/MyDrive/DataSet/RedVer2/RED4Digit-2/data.yaml --weights /content/gdrive/MyDrive/AI_Architect/yolov5/runs/train/RED4Digit1101_epho10/weights/best.pt --include tflite edgetpu"
      ]
    },
    {
      "cell_type": "code",
      "execution_count": null,
      "metadata": {
        "colab": {
          "base_uri": "https://localhost:8080/"
        },
        "id": "qsUi8b_ciTRm",
        "outputId": "52413df7-365c-4186-9e17-0dda1f4529fc"
      },
      "outputs": [
        {
          "name": "stdout",
          "output_type": "stream",
          "text": [
            "\u001b[34m\u001b[1mexport: \u001b[0mdata=data.yaml, weights=['./runs/train/mask_yolov5s_epho_150/weights/best.pt'], imgsz=[640, 640], batch_size=1, device=cpu, half=False, inplace=False, keras=False, optimize=False, int8=True, dynamic=False, simplify=False, opset=17, verbose=False, workspace=4, nms=False, agnostic_nms=False, topk_per_class=100, topk_all=100, iou_thres=0.45, conf_thres=0.25, include=['tflite']\n",
            "YOLOv5 🚀 v7.0-211-g94e943e Python-3.10.12 torch-2.0.1+cu118 CPU\n",
            "\n",
            "Fusing layers... \n",
            "YOLOv5s summary: 157 layers, 7037095 parameters, 0 gradients, 15.8 GFLOPs\n",
            "\n",
            "\u001b[34m\u001b[1mPyTorch:\u001b[0m starting from runs/train/mask_yolov5s_epho_150/weights/best.pt with output shape (1, 25200, 15) (14.1 MB)\n",
            "\n",
            "\u001b[34m\u001b[1mTensorFlow SavedModel:\u001b[0m starting export with tensorflow 2.13.0...\n",
            "\n",
            "                 from  n    params  module                                  arguments                     \n",
            "2023-10-09 08:31:06.661476: E tensorflow/compiler/xla/stream_executor/cuda/cuda_driver.cc:268] failed call to cuInit: CUDA_ERROR_NO_DEVICE: no CUDA-capable device is detected\n",
            "  0                -1  1      3520  models.common.Conv                      [3, 32, 6, 2, 2]              \n",
            "  1                -1  1     18560  models.common.Conv                      [32, 64, 3, 2]                \n",
            "  2                -1  1     18816  models.common.C3                        [64, 64, 1]                   \n",
            "  3                -1  1     73984  models.common.Conv                      [64, 128, 3, 2]               \n",
            "  4                -1  1    115712  models.common.C3                        [128, 128, 2]                 \n",
            "  5                -1  1    295424  models.common.Conv                      [128, 256, 3, 2]              \n",
            "  6                -1  1    625152  models.common.C3                        [256, 256, 3]                 \n",
            "  7                -1  1   1180672  models.common.Conv                      [256, 512, 3, 2]              \n",
            "  8                -1  1   1182720  models.common.C3                        [512, 512, 1]                 \n",
            "  9                -1  1    656896  models.common.SPPF                      [512, 512, 5]                 \n",
            " 10                -1  1    131584  models.common.Conv                      [512, 256, 1, 1]              \n",
            " 11                -1  1         0  torch.nn.modules.upsampling.Upsample    [None, 2, 'nearest']          \n",
            " 12           [-1, 6]  1         0  models.common.Concat                    [1]                           \n",
            " 13                -1  1    361984  models.common.C3                        [512, 256, 1, False]          \n",
            " 14                -1  1     33024  models.common.Conv                      [256, 128, 1, 1]              \n",
            " 15                -1  1         0  torch.nn.modules.upsampling.Upsample    [None, 2, 'nearest']          \n",
            " 16           [-1, 4]  1         0  models.common.Concat                    [1]                           \n",
            " 17                -1  1     90880  models.common.C3                        [256, 128, 1, False]          \n",
            " 18                -1  1    147712  models.common.Conv                      [128, 128, 3, 2]              \n",
            " 19          [-1, 14]  1         0  models.common.Concat                    [1]                           \n",
            " 20                -1  1    296448  models.common.C3                        [256, 256, 1, False]          \n",
            " 21                -1  1    590336  models.common.Conv                      [256, 256, 3, 2]              \n",
            " 22          [-1, 10]  1         0  models.common.Concat                    [1]                           \n",
            " 23                -1  1   1182720  models.common.C3                        [512, 512, 1, False]          \n",
            " 24      [17, 20, 23]  1     40455  models.yolo.Detect                      [10, [[10, 13, 16, 30, 33, 23], [30, 61, 62, 45, 59, 119], [116, 90, 156, 198, 373, 326]], [128, 256, 512], [640, 640]]\n",
            "Model: \"model\"\n",
            "__________________________________________________________________________________________________\n",
            " Layer (type)                Output Shape                 Param #   Connected to                  \n",
            "==================================================================================================\n",
            " input_1 (InputLayer)        [(1, 640, 640, 3)]           0         []                            \n",
            "                                                                                                  \n",
            " tf_conv (TFConv)            (1, 320, 320, 32)            3488      ['input_1[0][0]']             \n",
            "                                                                                                  \n",
            " tf_conv_1 (TFConv)          (1, 160, 160, 64)            18496     ['tf_conv[0][0]']             \n",
            "                                                                                                  \n",
            " tfc3 (TFC3)                 (1, 160, 160, 64)            18624     ['tf_conv_1[0][0]']           \n",
            "                                                                                                  \n",
            " tf_conv_7 (TFConv)          (1, 80, 80, 128)             73856     ['tfc3[0][0]']                \n",
            "                                                                                                  \n",
            " tfc3_1 (TFC3)               (1, 80, 80, 128)             115200    ['tf_conv_7[0][0]']           \n",
            "                                                                                                  \n",
            " tf_conv_15 (TFConv)         (1, 40, 40, 256)             295168    ['tfc3_1[0][0]']              \n",
            "                                                                                                  \n",
            " tfc3_2 (TFC3)               (1, 40, 40, 256)             623872    ['tf_conv_15[0][0]']          \n",
            "                                                                                                  \n",
            " tf_conv_25 (TFConv)         (1, 20, 20, 512)             1180160   ['tfc3_2[0][0]']              \n",
            "                                                                                                  \n",
            " tfc3_3 (TFC3)               (1, 20, 20, 512)             1181184   ['tf_conv_25[0][0]']          \n",
            "                                                                                                  \n",
            " tfsppf (TFSPPF)             (1, 20, 20, 512)             656128    ['tfc3_3[0][0]']              \n",
            "                                                                                                  \n",
            " tf_conv_33 (TFConv)         (1, 20, 20, 256)             131328    ['tfsppf[0][0]']              \n",
            "                                                                                                  \n",
            " tf_upsample (TFUpsample)    (1, 40, 40, 256)             0         ['tf_conv_33[0][0]']          \n",
            "                                                                                                  \n",
            " tf_concat (TFConcat)        (1, 40, 40, 512)             0         ['tf_upsample[0][0]',         \n",
            "                                                                     'tfc3_2[0][0]']              \n",
            "                                                                                                  \n",
            " tfc3_4 (TFC3)               (1, 40, 40, 256)             361216    ['tf_concat[0][0]']           \n",
            "                                                                                                  \n",
            " tf_conv_39 (TFConv)         (1, 40, 40, 128)             32896     ['tfc3_4[0][0]']              \n",
            "                                                                                                  \n",
            " tf_upsample_1 (TFUpsample)  (1, 80, 80, 128)             0         ['tf_conv_39[0][0]']          \n",
            "                                                                                                  \n",
            " tf_concat_1 (TFConcat)      (1, 80, 80, 256)             0         ['tf_upsample_1[0][0]',       \n",
            "                                                                     'tfc3_1[0][0]']              \n",
            "                                                                                                  \n",
            " tfc3_5 (TFC3)               (1, 80, 80, 128)             90496     ['tf_concat_1[0][0]']         \n",
            "                                                                                                  \n",
            " tf_conv_45 (TFConv)         (1, 40, 40, 128)             147584    ['tfc3_5[0][0]']              \n",
            "                                                                                                  \n",
            " tf_concat_2 (TFConcat)      (1, 40, 40, 256)             0         ['tf_conv_45[0][0]',          \n",
            "                                                                     'tf_conv_39[0][0]']          \n",
            "                                                                                                  \n",
            " tfc3_6 (TFC3)               (1, 40, 40, 256)             295680    ['tf_concat_2[0][0]']         \n",
            "                                                                                                  \n",
            " tf_conv_51 (TFConv)         (1, 20, 20, 256)             590080    ['tfc3_6[0][0]']              \n",
            "                                                                                                  \n",
            " tf_concat_3 (TFConcat)      (1, 20, 20, 512)             0         ['tf_conv_51[0][0]',          \n",
            "                                                                     'tf_conv_33[0][0]']          \n",
            "                                                                                                  \n",
            " tfc3_7 (TFC3)               (1, 20, 20, 512)             1181184   ['tf_concat_3[0][0]']         \n",
            "                                                                                                  \n",
            " tf_detect (TFDetect)        ((1, 25200, 15),             40455     ['tfc3_5[0][0]',              \n",
            "                             )                                       'tfc3_6[0][0]',              \n",
            "                                                                     'tfc3_7[0][0]']              \n",
            "                                                                                                  \n",
            "==================================================================================================\n",
            "Total params: 7037095 (26.84 MB)\n",
            "Trainable params: 0 (0.00 Byte)\n",
            "Non-trainable params: 7037095 (26.84 MB)\n",
            "__________________________________________________________________________________________________\n",
            "\u001b[34m\u001b[1mTensorFlow SavedModel:\u001b[0m export success ✅ 9.3s, saved as runs/train/mask_yolov5s_epho_150/weights/best_saved_model (27.1 MB)\n",
            "\n",
            "\u001b[34m\u001b[1mTensorFlow Lite:\u001b[0m starting export with tensorflow 2.13.0...\n",
            "fully_quantize: 0, inference_type: 6, input_inference_type: UINT8, output_inference_type: UINT8\n",
            "\u001b[34m\u001b[1mTensorFlow Lite:\u001b[0m export success ✅ 239.2s, saved as runs/train/mask_yolov5s_epho_150/weights/best-int8.tflite (7.1 MB)\n",
            "\n",
            "Export complete (249.5s)\n",
            "Results saved to \u001b[1m/content/gdrive/MyDrive/AI_Architect/yolov5/runs/train/mask_yolov5s_epho_150/weights\u001b[0m\n",
            "Detect:          python detect.py --weights runs/train/mask_yolov5s_epho_150/weights/best-int8.tflite \n",
            "Validate:        python val.py --weights runs/train/mask_yolov5s_epho_150/weights/best-int8.tflite \n",
            "PyTorch Hub:     model = torch.hub.load('ultralytics/yolov5', 'custom', 'runs/train/mask_yolov5s_epho_150/weights/best-int8.tflite')  \n",
            "Visualize:       https://netron.app\n"
          ]
        }
      ],
      "source": [
        "#8bit 양자화\n",
        "!python3 export.py --data data.yaml --weights ./runs/train/mask_yolov5s_epho_150/weights/best.pt --include tflite --int8"
      ]
    },
    {
      "cell_type": "markdown",
      "metadata": {
        "id": "9CLICS8DkCFV"
      },
      "source": [
        "#Weight File Down Load"
      ]
    },
    {
      "cell_type": "code",
      "execution_count": null,
      "metadata": {
        "colab": {
          "base_uri": "https://localhost:8080/",
          "height": 35
        },
        "id": "FCnomhrbjzrR",
        "outputId": "b2866a70-cee2-4bb8-9c88-71d61c0d60c7"
      },
      "outputs": [
        {
          "data": {
            "application/vnd.google.colaboratory.intrinsic+json": {
              "type": "string"
            },
            "text/plain": [
              "'/content/gdrive/MyDrive/AI_Architect/yolov5'"
            ]
          },
          "execution_count": 42,
          "metadata": {},
          "output_type": "execute_result"
        }
      ],
      "source": [
        "%pwd"
      ]
    },
    {
      "cell_type": "code",
      "execution_count": null,
      "metadata": {
        "colab": {
          "base_uri": "https://localhost:8080/"
        },
        "id": "H8REjhg6j1qc",
        "outputId": "ec2e8e9c-fbd2-4638-838c-d47535a4db85"
      },
      "outputs": [
        {
          "name": "stdout",
          "output_type": "stream",
          "text": [
            "/content/gdrive/MyDrive/AI_Architect/yolov5/runs/train/RED4Digit1013_epho100/weights\n"
          ]
        }
      ],
      "source": [
        "%cd /content/gdrive/MyDrive/AI_Architect/yolov5/runs/train/RED4Digit1013_epho100/weights/"
      ]
    },
    {
      "cell_type": "code",
      "execution_count": null,
      "metadata": {
        "colab": {
          "base_uri": "https://localhost:8080/"
        },
        "id": "SSh9Cxlyj-CD",
        "outputId": "d22a5fff-b8ce-475d-a827-dcccc30417b4"
      },
      "outputs": [
        {
          "name": "stdout",
          "output_type": "stream",
          "text": [
            "total 72599\n",
            "-rw------- 1 root root     1280 Oct 15 04:15 best-int8_edgetpu.log\n",
            "-rw------- 1 root root  8709664 Oct 15 04:15 best-int8_edgetpu.tflite\n",
            "-rw------- 1 root root  7395720 Oct 15 04:15 best-int8.tflite\n",
            "-rw------- 1 root root 28596141 Oct 15 03:52 best.onnx\n",
            "-rw------- 1 root root 14816381 Oct 13 12:23 best.pt\n",
            "drwx------ 4 root root     4096 Oct 15 04:10 \u001b[0m\u001b[01;34mbest_saved_model\u001b[0m/\n",
            "-rw------- 1 root root 14816381 Oct 13 12:23 last.pt\n"
          ]
        }
      ],
      "source": [
        "%ls -l"
      ]
    },
    {
      "cell_type": "code",
      "execution_count": null,
      "metadata": {
        "id": "VEU7eQS7kFlO"
      },
      "outputs": [],
      "source": [
        "#file\n",
        "from google.colab import files"
      ]
    },
    {
      "cell_type": "code",
      "execution_count": null,
      "metadata": {
        "colab": {
          "base_uri": "https://localhost:8080/",
          "height": 17
        },
        "id": "K2P27cdUkSfn",
        "outputId": "3af6695c-0c06-428b-d529-ebd8608bd1e3"
      },
      "outputs": [
        {
          "data": {
            "application/javascript": [
              "\n",
              "    async function download(id, filename, size) {\n",
              "      if (!google.colab.kernel.accessAllowed) {\n",
              "        return;\n",
              "      }\n",
              "      const div = document.createElement('div');\n",
              "      const label = document.createElement('label');\n",
              "      label.textContent = `Downloading \"${filename}\": `;\n",
              "      div.appendChild(label);\n",
              "      const progress = document.createElement('progress');\n",
              "      progress.max = size;\n",
              "      div.appendChild(progress);\n",
              "      document.body.appendChild(div);\n",
              "\n",
              "      const buffers = [];\n",
              "      let downloaded = 0;\n",
              "\n",
              "      const channel = await google.colab.kernel.comms.open(id);\n",
              "      // Send a message to notify the kernel that we're ready.\n",
              "      channel.send({})\n",
              "\n",
              "      for await (const message of channel.messages) {\n",
              "        // Send a message to notify the kernel that we're ready.\n",
              "        channel.send({})\n",
              "        if (message.buffers) {\n",
              "          for (const buffer of message.buffers) {\n",
              "            buffers.push(buffer);\n",
              "            downloaded += buffer.byteLength;\n",
              "            progress.value = downloaded;\n",
              "          }\n",
              "        }\n",
              "      }\n",
              "      const blob = new Blob(buffers, {type: 'application/binary'});\n",
              "      const a = document.createElement('a');\n",
              "      a.href = window.URL.createObjectURL(blob);\n",
              "      a.download = filename;\n",
              "      div.appendChild(a);\n",
              "      a.click();\n",
              "      div.remove();\n",
              "    }\n",
              "  "
            ],
            "text/plain": [
              "<IPython.core.display.Javascript object>"
            ]
          },
          "metadata": {},
          "output_type": "display_data"
        },
        {
          "data": {
            "application/javascript": [
              "download(\"download_cd0ca23d-ac56-4dfd-b416-138b5d7063f3\", \"best-int8.tflite\", 7395720)"
            ],
            "text/plain": [
              "<IPython.core.display.Javascript object>"
            ]
          },
          "metadata": {},
          "output_type": "display_data"
        }
      ],
      "source": [
        "files.download('best-int8.tflite')"
      ]
    },
    {
      "cell_type": "code",
      "execution_count": null,
      "metadata": {
        "colab": {
          "base_uri": "https://localhost:8080/",
          "height": 34
        },
        "id": "m4KO-4wbkXBC",
        "outputId": "dbfcfd76-b753-4d3c-dec6-b82f7e60d323"
      },
      "outputs": [
        {
          "data": {
            "application/javascript": [
              "\n",
              "    async function download(id, filename, size) {\n",
              "      if (!google.colab.kernel.accessAllowed) {\n",
              "        return;\n",
              "      }\n",
              "      const div = document.createElement('div');\n",
              "      const label = document.createElement('label');\n",
              "      label.textContent = `Downloading \"${filename}\": `;\n",
              "      div.appendChild(label);\n",
              "      const progress = document.createElement('progress');\n",
              "      progress.max = size;\n",
              "      div.appendChild(progress);\n",
              "      document.body.appendChild(div);\n",
              "\n",
              "      const buffers = [];\n",
              "      let downloaded = 0;\n",
              "\n",
              "      const channel = await google.colab.kernel.comms.open(id);\n",
              "      // Send a message to notify the kernel that we're ready.\n",
              "      channel.send({})\n",
              "\n",
              "      for await (const message of channel.messages) {\n",
              "        // Send a message to notify the kernel that we're ready.\n",
              "        channel.send({})\n",
              "        if (message.buffers) {\n",
              "          for (const buffer of message.buffers) {\n",
              "            buffers.push(buffer);\n",
              "            downloaded += buffer.byteLength;\n",
              "            progress.value = downloaded;\n",
              "          }\n",
              "        }\n",
              "      }\n",
              "      const blob = new Blob(buffers, {type: 'application/binary'});\n",
              "      const a = document.createElement('a');\n",
              "      a.href = window.URL.createObjectURL(blob);\n",
              "      a.download = filename;\n",
              "      div.appendChild(a);\n",
              "      a.click();\n",
              "      div.remove();\n",
              "    }\n",
              "  "
            ],
            "text/plain": [
              "<IPython.core.display.Javascript object>"
            ]
          },
          "metadata": {},
          "output_type": "display_data"
        },
        {
          "data": {
            "application/javascript": [
              "download(\"download_33942e97-ee25-45a4-aaf6-4ab5fc274c62\", \"best-int8_edgetpu.tflite\", 8709664)"
            ],
            "text/plain": [
              "<IPython.core.display.Javascript object>"
            ]
          },
          "metadata": {},
          "output_type": "display_data"
        }
      ],
      "source": [
        "fileEdage = 'best-int8_edgetpu.tflite'\n",
        "files.download(fileEdage)"
      ]
    },
    {
      "cell_type": "code",
      "execution_count": null,
      "metadata": {
        "id": "Xz_B3Nskk4aS"
      },
      "outputs": [],
      "source": []
    }
  ],
  "metadata": {
    "accelerator": "GPU",
    "colab": {
      "provenance": [],
      "authorship_tag": "ABX9TyPuXdxmaNQhs4mvwRhpJ6vM",
      "include_colab_link": true
    },
    "kernelspec": {
      "display_name": "Python 3",
      "name": "python3"
    },
    "language_info": {
      "name": "python"
    }
  },
  "nbformat": 4,
  "nbformat_minor": 0
}